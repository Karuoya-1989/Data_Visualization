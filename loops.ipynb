{
 "cells": [
  {
   "cell_type": "markdown",
   "metadata": {},
   "source": [
    "## Objectives\n",
    "\n",
    "* Understand the concept\n",
    "* Demonstrate the types of loops\n",
    "* Discuss the syntax\n",
    "* Understand the concept of loop control\n",
    "* Discuss Iteration\n",
    "* Discuss Nested Loops\n",
    "* Enhancing Loops Functionality"
   ]
  },
  {
   "cell_type": "markdown",
   "metadata": {},
   "source": [
    "## INTRODUCTION TO REPITITION\n"
   ]
  },
  {
   "cell_type": "markdown",
   "metadata": {},
   "source": [
    "* Repition is a fundemenatal concept in programming that involves perfroming the same set of instruction multiple times.\n",
    "* Used to automate  task that requires repeat execution of codes e.g *MPesa*\n",
    "* Loops  are a key mechanism in programmin to achieve efficiency in repition"
   ]
  },
  {
   "cell_type": "markdown",
   "metadata": {},
   "source": []
  },
  {
   "cell_type": "code",
   "execution_count": 21,
   "metadata": {},
   "outputs": [
    {
     "name": "stdout",
     "output_type": "stream",
     "text": [
      "1\n",
      "2\n",
      "3\n"
     ]
    }
   ],
   "source": [
    "# Consider a scenario counting 1 to 10\n",
    "print(1)\n",
    "print(2)\n",
    "print(3)"
   ]
  },
  {
   "cell_type": "code",
   "execution_count": 22,
   "metadata": {},
   "outputs": [
    {
     "name": "stdout",
     "output_type": "stream",
     "text": [
      "1\n",
      "2\n",
      "3\n",
      "4\n",
      "5\n",
      "6\n",
      "7\n",
      "8\n",
      "9\n",
      "10\n"
     ]
    }
   ],
   "source": [
    "# Programming loops\n",
    "for num in range(1, 11):\n",
    "    print(num)\n"
   ]
  },
  {
   "cell_type": "code",
   "execution_count": 23,
   "metadata": {},
   "outputs": [
    {
     "name": "stdout",
     "output_type": "stream",
     "text": [
      "Number: 0\n",
      "Number: 1\n",
      "Number: 2\n",
      "Number: 3\n",
      "Number: 4\n"
     ]
    }
   ],
   "source": [
    "# use while loop\n",
    "count = 0\n",
    "while count < 5:\n",
    "    print(\"Number:\", count)\n",
    "    count += 1 # what does this code do?\n",
    "    "
   ]
  },
  {
   "cell_type": "markdown",
   "metadata": {},
   "source": [
    "## What is a loop?\n",
    "* A loop is programming constract that enables the repeated execution of a specific block of codes (*indented code*)\n",
    "* Loop are used when you want to automate a task that need to be performed multiplee times.\n",
    "* They control the flow of the program , allowing certain code to be executed repeatedly until a **condition is met**."
   ]
  },
  {
   "cell_type": "code",
   "execution_count": 24,
   "metadata": {},
   "outputs": [
    {
     "name": "stdout",
     "output_type": "stream",
     "text": [
      "1\n",
      "2\n",
      "3\n",
      "4\n",
      "5\n",
      "6\n",
      "7\n",
      "8\n",
      "9\n",
      "10\n",
      "11\n",
      "12\n",
      "13\n",
      "14\n",
      "15\n"
     ]
    }
   ],
   "source": [
    "# list of number\n",
    "numbers= [1, 2, 3, 4, 5, 6, 7, 8, 9, 10, 11, 12, 13, 14, 15]\n",
    "# empty list\n",
    "for pos in numbers:\n",
    "    print(pos) "
   ]
  },
  {
   "cell_type": "code",
   "execution_count": 25,
   "metadata": {},
   "outputs": [
    {
     "name": "stdout",
     "output_type": "stream",
     "text": [
      "[2, 4, 6, 8, 10, 12, 14]\n"
     ]
    }
   ],
   "source": [
    "# for fun\n",
    "even_numbers = []\n",
    "for pos in numbers:\n",
    "    if (pos % 2 == 0):\n",
    "        even_numbers.append(pos)\n",
    "print(even_numbers)"
   ]
  },
  {
   "cell_type": "code",
   "execution_count": 26,
   "metadata": {},
   "outputs": [
    {
     "name": "stdout",
     "output_type": "stream",
     "text": [
      "[1, 3, 5, 7, 9, 11, 13, 15]\n"
     ]
    }
   ],
   "source": [
    "# for fun\n",
    "odd_numbers = []\n",
    "for pos in numbers:\n",
    "    if (pos % 2 == 1):\n",
    "        odd_numbers.append(pos)\n",
    "print(odd_numbers)"
   ]
  },
  {
   "cell_type": "code",
   "execution_count": 27,
   "metadata": {},
   "outputs": [
    {
     "name": "stdout",
     "output_type": "stream",
     "text": [
      "91\n"
     ]
    }
   ],
   "source": [
    "# Using loop to get the sum betwwen a range\n",
    "sum = 0\n",
    "# Creating a loop\n",
    "for pos in range(1, 14): # range is btwn excluding 14\n",
    "    sum += pos\n",
    "print(sum)"
   ]
  },
  {
   "cell_type": "markdown",
   "metadata": {},
   "source": [
    "## Control flow\n",
    "* loops influnce the order in which instruction are executed.\n",
    "* When a loop is encountered, the program enters *loop body* executing the contained code.\n",
    "* syntax\n",
    "```\n",
    "loop made of condition\n",
    "    contained blocked of\n",
    "    codes to be exected\n",
    "    when condition in True/met\n",
    "loop is done\n",
    "Program exits the loop\n",
    "```\n",
    "* At each iteration, the program checks the loop condition. If the condition remains **True**, the loop body is executed again.\n",
    "* if it becames **False** the program exits the loop\n",
    "* **Iteration** refers to each cycle or repition of a loop"
   ]
  },
  {
   "cell_type": "code",
   "execution_count": 28,
   "metadata": {},
   "outputs": [
    {
     "name": "stdout",
     "output_type": "stream",
     "text": [
      "This is an example of a loop\n",
      "Just a Demonstartion\n",
      "countdown value: 5!!\n",
      "countdown value: 4!!\n",
      "countdown value: 3!!\n",
      "countdown value: 2!!\n",
      "countdown value: 1!!\n",
      "Exit loop!! and program continues\n"
     ]
    }
   ],
   "source": [
    "# example of a loop\n",
    "# Assuming that its a block\n",
    "print(\"This is an example of a loop\")\n",
    "print(\"Just a Demonstartion\")\n",
    "# Loop stimulate a coutdown\n",
    "coutdown = 5\n",
    "# when a pragram meets a loop block >> while loop\n",
    "while (coutdown > 0):\n",
    "    # code when the condition is TRUE\n",
    "    print(f\"countdown value: {coutdown}!!\")\n",
    "    coutdown -= 1\n",
    "    # program exits the loop when no longer met\n",
    "print(\"Exit loop!! and program continues\")\n"
   ]
  },
  {
   "cell_type": "markdown",
   "metadata": {},
   "source": [
    "## Types of loops\n",
    "* **While** and **for**\n",
    "* type depends whether you know the number of iterations in advance or if it depends on a condition"
   ]
  },
  {
   "cell_type": "markdown",
   "metadata": {},
   "source": [
    "### For Loop\n",
    "* Basic Syntax\n",
    "```\n",
    "for item in sequence:\n",
    "    # code to be executed for each item\n",
    "    # ...\n",
    "```\n",
    "* `for` : keyword that signals the start of a  for loop.\n",
    "* `item`: is avariable that represent the current item in the sequence during each interation of the loop\n",
    "* `in` : Keyword used to specify that you are interating *in* the given sequence\n",
    "* `sequence` : collection of items that you have to iterate over (e.g., )\n",
    "*  ':' : start of the indented code block that will be executed for each iteration of the loop.\n",
    "\n",
    "Inside the indented code block, you place the actions/operations that you want to perform on each item in the sequence. The loop will automatically iterate through the entire sequence, executing the code block for each block."
   ]
  },
  {
   "cell_type": "code",
   "execution_count": 29,
   "metadata": {},
   "outputs": [
    {
     "name": "stdout",
     "output_type": "stream",
     "text": [
      "K\n",
      "a\n",
      "r\n",
      "u\n",
      "o\n",
      "y\n",
      "a\n"
     ]
    }
   ],
   "source": [
    "name = \"Karuoya\"\n",
    "for letter in name :\n",
    "    print(letter)"
   ]
  },
  {
   "cell_type": "code",
   "execution_count": 30,
   "metadata": {},
   "outputs": [
    {
     "name": "stdout",
     "output_type": "stream",
     "text": [
      "Kerugoya\n",
      "Nyeri\n",
      "Embu\n",
      "Muranga\n",
      "Kiambu\n"
     ]
    }
   ],
   "source": [
    "# Code demo\n",
    "# List of sample High_Courts\n",
    "high_courts = [ 'Kerugoya', 'Nyeri', 'Embu', 'Muranga', 'Kiambu', 'Machakos', 'Chuka', 'Meru']\n",
    "for courts in high_courts: \n",
    "    # code block to execute\n",
    "    print(courts)\n",
    "    if (courts == 'Kiambu'):\n",
    "        break;\n"
   ]
  },
  {
   "cell_type": "markdown",
   "metadata": {},
   "source": [
    "## Sequence types\n",
    "* Refers to data structures that hold collection of elements, has to accessible by **index** or *key*\n",
    "* Elements are ordered, meaning they have a specific position within the squence"
   ]
  },
  {
   "cell_type": "code",
   "execution_count": 31,
   "metadata": {},
   "outputs": [
    {
     "name": "stdout",
     "output_type": "stream",
     "text": [
      "Kerugoya\n"
     ]
    }
   ],
   "source": [
    "\n",
    "print(high_courts[0])"
   ]
  },
  {
   "cell_type": "code",
   "execution_count": 32,
   "metadata": {},
   "outputs": [
    {
     "name": "stdout",
     "output_type": "stream",
     "text": [
      "kerugoya\n",
      "nyeri\n",
      "embu\n",
      "muranga\n",
      "kiambu\n",
      "machakos\n",
      "chuka\n",
      "meru\n"
     ]
    }
   ],
   "source": [
    "for court in high_courts:\n",
    "    lower_case = court.lower()\n",
    "    print(lower_case)"
   ]
  },
  {
   "cell_type": "markdown",
   "metadata": {},
   "source": [
    "# tuple > Similar to list but they are imutable, meaning:\n",
    "# their contents cannot be changed after creation\n",
    "# syntax tuple_name = ( item1, item2.....)"
   ]
  },
  {
   "cell_type": "code",
   "execution_count": null,
   "metadata": {},
   "outputs": [],
   "source": []
  },
  {
   "cell_type": "code",
   "execution_count": 33,
   "metadata": {},
   "outputs": [
    {
     "name": "stdout",
     "output_type": "stream",
     "text": [
      "KERUGOYA\n",
      "NYERI\n",
      "EMBU\n",
      "MURANGA\n",
      "KIAMBU\n",
      "MACHAKOS\n",
      "CHUKA\n",
      "MERU\n"
     ]
    }
   ],
   "source": [
    "for court in high_courts:\n",
    "    upper_case = court.upper()\n",
    "    print(upper_case)"
   ]
  },
  {
   "cell_type": "code",
   "execution_count": 34,
   "metadata": {},
   "outputs": [
    {
     "name": "stdout",
     "output_type": "stream",
     "text": [
      "('Maggy', 'Carol', 'Eva', 'Chemu', 'Linda')\n",
      "Maggy\n"
     ]
    }
   ],
   "source": [
    "noise_makers =(\"Maggy\", \"Carol\", \"Eva\", \"Chemu\", 'Linda')\n",
    "print(noise_makers)\n",
    "print(noise_makers[0])"
   ]
  },
  {
   "cell_type": "code",
   "execution_count": 35,
   "metadata": {},
   "outputs": [
    {
     "name": "stdout",
     "output_type": "stream",
     "text": [
      "Maggy\n",
      "Carol\n",
      "Eva\n",
      "Chemu\n",
      "Linda\n"
     ]
    }
   ],
   "source": [
    "for RSD in noise_makers:\n",
    "    print(RSD)"
   ]
  },
  {
   "cell_type": "code",
   "execution_count": 36,
   "metadata": {},
   "outputs": [
    {
     "name": "stdout",
     "output_type": "stream",
     "text": [
      "J\n",
      "u\n",
      "d\n",
      "i\n",
      "c\n",
      "i\n",
      "a\n",
      "r\n",
      "y\n"
     ]
    }
   ],
   "source": [
    "# loop over character. iterate through a string\n",
    "word = \"Judiciary\"\n",
    "for char in word:\n",
    "    print(char)"
   ]
  },
  {
   "cell_type": "code",
   "execution_count": 38,
   "metadata": {},
   "outputs": [
    {
     "name": "stdout",
     "output_type": "stream",
     "text": [
      "['J', 'u', 'd', 'i', 'c', 'i', 'a', 'r', 'y']\n"
     ]
    }
   ],
   "source": [
    "word_chars =[]\n",
    "for char in word:\n",
    "    word_chars.append(char)\n",
    "\n",
    "print(word_chars)"
   ]
  },
  {
   "cell_type": "code",
   "execution_count": 41,
   "metadata": {},
   "outputs": [
    {
     "name": "stdout",
     "output_type": "stream",
     "text": [
      "[1, 3, 5, 7, 9, 11]\n"
     ]
    }
   ],
   "source": [
    "# range\n",
    "# empty list to store empty num\n",
    "odd_nums =[]\n",
    "for num in range(1, 13):\n",
    "    if (num % 2 == 1):\n",
    "        odd_nums.append(num)\n",
    "print(odd_nums)"
   ]
  },
  {
   "cell_type": "markdown",
   "metadata": {},
   "source": [
    "# LOOP BODY\n",
    " * Refers to block of codes executed repeatedly for each iteration of loop\n",
    " * A loop is designed to perform repeated task automatically and loop body contains instruction that defines what those actions are.\n",
    " ### Important points to consider.\n",
    " 1. **Indentation**\n",
    " 2. **Iteration** - the loop body is executed once for each item in the sequence that contains the elements upon each the instruction and execution will be repeted.\n",
    " 3. **Accessing loop variable value** - can be accessed inside the loop body to perform specific actions to that value.\n",
    " 4. **Manipulation** - inside the loop body, you can perform various operations on the loop variable or use it to interact with otherparts of the program."
   ]
  },
  {
   "cell_type": "code",
   "execution_count": 45,
   "metadata": {},
   "outputs": [
    {
     "name": "stdout",
     "output_type": "stream",
     "text": [
      "the square of 0 = 0\n",
      "the square of 1 = 1\n",
      "the square of 2 = 4\n",
      "the square of 3 = 9\n",
      "the square of 4 = 16\n",
      "the square of 5 = 25\n",
      "the square of 6 = 36\n",
      "the square of 7 = 49\n",
      "the square of 8 = 64\n",
      "the square of 9 = 81\n",
      "the square of 10 = 100\n",
      "the square of 11 = 121\n"
     ]
    }
   ],
   "source": [
    "# Example\n",
    "for num in range(0,12):\n",
    "    square = num ** 2\n",
    "    print(f\"the square of {num} = {square}\")"
   ]
  },
  {
   "cell_type": "markdown",
   "metadata": {},
   "source": [
    "### `range()`\n",
    "* A functon commonly used especially when working with loops.\n",
    "* Generate a sequence of numbers within a specified range.\n",
    "* `range` takes upto 3 Arguments.\n",
    "1. **start(inclusive, optional)** - The staring value of the sequence. if ommited the sequence starts from zero by default.\n",
    "2. **stop (Exclusive)** - ending value of the sequence. example, if stop is 50, and start is 0 the sequence will be all the numbers including 0 to 49. but not 50.\n",
    "3. **step(Optional)** - difference between consecutive value in the sequence. By default, the value of step is 1.\n",
    "```range(start, stop, step)```\n"
   ]
  },
  {
   "cell_type": "markdown",
   "metadata": {},
   "source": [
    "### Basic Range\n",
    "* Using stop to generate a sequence of number from 0 to 16\n",
    "* Remember to include start and step."
   ]
  },
  {
   "cell_type": "code",
   "execution_count": 54,
   "metadata": {},
   "outputs": [
    {
     "name": "stdout",
     "output_type": "stream",
     "text": [
      "0\n",
      "1\n",
      "2\n",
      "3\n",
      "4\n",
      "5\n",
      "6\n",
      "7\n",
      "8\n",
      "9\n",
      "10\n",
      "11\n",
      "12\n",
      "13\n",
      "14\n",
      "15\n"
     ]
    }
   ],
   "source": [
    "for num in range(16):\n",
    "    print(num)"
   ]
  },
  {
   "cell_type": "code",
   "execution_count": 56,
   "metadata": {},
   "outputs": [
    {
     "name": "stdout",
     "output_type": "stream",
     "text": [
      "50\n",
      "51\n",
      "52\n",
      "53\n",
      "54\n",
      "55\n",
      "56\n",
      "57\n",
      "58\n",
      "59\n"
     ]
    }
   ],
   "source": [
    "# specify the start of the sequence and stop.between 50 and 59\n",
    "for num in range(50, 60):\n",
    "    print(num)"
   ]
  },
  {
   "cell_type": "code",
   "execution_count": 62,
   "metadata": {},
   "outputs": [
    {
     "name": "stdout",
     "output_type": "stream",
     "text": [
      "5\n",
      "10\n",
      "15\n",
      "20\n",
      "25\n",
      "30\n",
      "35\n",
      "40\n",
      "45\n"
     ]
    }
   ],
   "source": [
    "# Specify start, stop and step. Step all numbers divisible by 5 betwwen 3 and 30\n",
    "for num in range(5, 50, 5):\n",
    "    print(num)"
   ]
  },
  {
   "cell_type": "code",
   "execution_count": 67,
   "metadata": {},
   "outputs": [
    {
     "name": "stdout",
     "output_type": "stream",
     "text": [
      "[0, 2, 4, 6, 8, 10, 12, 14, 16, 18, 20, 22, 24, 26, 28, 30, 32, 34, 36, 38, 40, 42, 44, 46, 48, 50, 52, 54, 56, 58, 60]\n"
     ]
    }
   ],
   "source": [
    "even_numbers = []\n",
    "for num in range(0, 61, 2):\n",
    "    even_numbers.append(num)\n",
    "print(even_numbers)\n"
   ]
  },
  {
   "cell_type": "code",
   "execution_count": 93,
   "metadata": {},
   "outputs": [
    {
     "name": "stdout",
     "output_type": "stream",
     "text": [
      "['Alex', 'Njeru', 'Victor', 'Esther', 'Gabby']\n"
     ]
    }
   ],
   "source": [
    "#nested loop. A loop within a loop\n",
    "print(student_name)"
   ]
  },
  {
   "cell_type": "code",
   "execution_count": 77,
   "metadata": {},
   "outputs": [
    {
     "name": "stdout",
     "output_type": "stream",
     "text": [
      "N\n",
      "j\n",
      "e\n",
      "r\n",
      "u\n",
      "\n",
      "Alex\n",
      "Njeru\n",
      "Victor\n",
      "Esther\n",
      "Gabby\n"
     ]
    }
   ],
   "source": [
    "item_1 = student_name[1]\n",
    "for letters in item_1:\n",
    "    print(letters)\n",
    "print()\n",
    "for student in student_name:\n",
    "    print(student)"
   ]
  },
  {
   "cell_type": "code",
   "execution_count": 96,
   "metadata": {},
   "outputs": [
    {
     "name": "stdout",
     "output_type": "stream",
     "text": [
      "A\n",
      "l\n",
      "e\n",
      "x\n",
      "\n",
      "N\n",
      "j\n",
      "e\n",
      "r\n",
      "u\n",
      "\n",
      "V\n",
      "i\n",
      "c\n",
      "t\n",
      "o\n",
      "r\n",
      "\n",
      "E\n",
      "s\n",
      "t\n",
      "h\n",
      "e\n",
      "r\n",
      "\n",
      "G\n",
      "a\n",
      "b\n",
      "b\n",
      "y\n",
      "\n"
     ]
    }
   ],
   "source": [
    "# nested loops.\n",
    "for student in student_name: #1st Loop\n",
    "    for letter in student:\n",
    "        print(letter) #2nd loop\n",
    "    print()\n"
   ]
  },
  {
   "cell_type": "markdown",
   "metadata": {},
   "source": [
    "*\n",
    "\n",
    "* *\n",
    "\n",
    "* * *\n",
    "\n",
    "* * * *"
   ]
  },
  {
   "cell_type": "code",
   "execution_count": 92,
   "metadata": {},
   "outputs": [
    {
     "name": "stdout",
     "output_type": "stream",
     "text": [
      "* \n",
      "* * \n",
      "* * * \n",
      "* * * * \n",
      "* * * * * \n"
     ]
    }
   ],
   "source": [
    "num_rows = 5\n",
    "Star_List = \"*\"\n",
    "for i in range (num_rows):\n",
    "    for j in range (i+1):\n",
    "        print (Star_List, end = \" \")\n",
    "    print ()"
   ]
  },
  {
   "cell_type": "code",
   "execution_count": 89,
   "metadata": {},
   "outputs": [
    {
     "name": "stdout",
     "output_type": "stream",
     "text": [
      "*\n",
      "**\n",
      "***\n",
      "****\n"
     ]
    }
   ],
   "source": [
    "for i in range(1, 5):\n",
    "    print('*' * i)"
   ]
  },
  {
   "cell_type": "code",
   "execution_count": 90,
   "metadata": {},
   "outputs": [
    {
     "name": "stdout",
     "output_type": "stream",
     "text": [
      "* \n",
      "* * \n",
      "* * * \n",
      "* * * * \n"
     ]
    }
   ],
   "source": [
    "for i in range(1, 5):  # Outer loop for the number of rows\n",
    "    for j in range(i):  # Inner loop to print asterisks in each row\n",
    "        print(\"*\", end=\" \")\n",
    "    print()  # Move to the next line after printing each row\n"
   ]
  },
  {
   "cell_type": "code",
   "execution_count": 70,
   "metadata": {},
   "outputs": [
    {
     "name": "stdout",
     "output_type": "stream",
     "text": [
      "Hello Alex, Welcome to Karunash\n",
      "Hello Njeru, Welcome to Karunash\n",
      "Hello Victor, Welcome to Karunash\n",
      "Hello Esther, Welcome to Karunash\n",
      "Hello Gabby, Welcome to Karunash\n"
     ]
    }
   ],
   "source": [
    "student_name =['Alex','Njeru','Victor', 'Esther', 'Gabby']\n",
    "for member in student_name:\n",
    "    greet_students(member)"
   ]
  },
  {
   "cell_type": "code",
   "execution_count": 1,
   "metadata": {},
   "outputs": [
    {
     "name": "stdout",
     "output_type": "stream",
     "text": [
      "Hello Alex, Welcome to Karunash\n"
     ]
    }
   ],
   "source": [
    "def greet_students(student_name):\n",
    "    message = f\"Hello {student_name}, Welcome to Karunash\"\n",
    "    return print(message)\n",
    "greet_students(\"Alex\")\n",
    "\n"
   ]
  },
  {
   "cell_type": "code",
   "execution_count": 6,
   "metadata": {},
   "outputs": [
    {
     "name": "stdout",
     "output_type": "stream",
     "text": [
      "****\n",
      " ***\n",
      "  **\n",
      "   *\n"
     ]
    }
   ],
   "source": [
    "rows = 4\n",
    "for i in range(0, rows):\n",
    "    print(' ' * i + '*' * (rows - i))"
   ]
  },
  {
   "cell_type": "code",
   "execution_count": 10,
   "metadata": {},
   "outputs": [
    {
     "name": "stdout",
     "output_type": "stream",
     "text": [
      "    *\n",
      "   **\n",
      "  ***\n",
      " ****\n",
      "*****\n"
     ]
    }
   ],
   "source": [
    "# Create a slant pyramid of stars using i and j\n",
    "rows = 5\n",
    "for i in range(rows):\n",
    "    for j in range(rows -i -1):\n",
    "        print(' ', end='')\n",
    "    for k in range(0, i+1):\n",
    "        print ( '*', end='')\n",
    "    print()"
   ]
  },
  {
   "cell_type": "code",
   "execution_count": 18,
   "metadata": {},
   "outputs": [
    {
     "name": "stdout",
     "output_type": "stream",
     "text": [
      "0\n",
      "1\n",
      "2\n",
      "3\n"
     ]
    }
   ],
   "source": [
    "# Break and Continue for loops\n",
    "# Break\n",
    "for i in range(0, 10):\n",
    "    if i == 4:\n",
    "        break  # Exit the loop when i is equal to 3\n",
    "    print(i)\n"
   ]
  },
  {
   "cell_type": "code",
   "execution_count": 14,
   "metadata": {},
   "outputs": [
    {
     "name": "stdout",
     "output_type": "stream",
     "text": [
      "1\n",
      "2\n",
      "3\n",
      "4\n",
      "5\n",
      "7\n",
      "8\n",
      "9\n"
     ]
    }
   ],
   "source": [
    "for num in range(1, 10):\n",
    "    if num == 6:\n",
    "        continue  # Skip the rest of the loop body when i is equal to 3\n",
    "    print(num)\n"
   ]
  },
  {
   "cell_type": "code",
   "execution_count": 16,
   "metadata": {},
   "outputs": [
    {
     "name": "stdout",
     "output_type": "stream",
     "text": [
      "apple\n",
      "banana\n",
      "cherry\n"
     ]
    }
   ],
   "source": [
    "fruits = [\"apple\", \"banana\", \"cherry\", \"date\", \"elderberry\", \"Mango\"]\n",
    "\n",
    "for fruit in fruits:\n",
    "    if fruit == \"date\":\n",
    "        break\n",
    "    print(fruit)\n"
   ]
  },
  {
   "cell_type": "code",
   "execution_count": 21,
   "metadata": {},
   "outputs": [
    {
     "name": "stdout",
     "output_type": "stream",
     "text": [
      "apple\n",
      "banana\n",
      "cherry\n",
      "date\n",
      "elderberry\n",
      "Mango\n"
     ]
    }
   ],
   "source": [
    "fruits = [\"apple\", \"banana\", \"cherry\", \"date\", \"elderberry\", \"Mango\"]\n",
    "\n",
    "for fruit in fruits:\n",
    "    if fruit == [\"cherry\", \"date\"]:\n",
    "        continue\n",
    "    print(fruit)\n"
   ]
  },
  {
   "cell_type": "code",
   "execution_count": 22,
   "metadata": {},
   "outputs": [
    {
     "name": "stdout",
     "output_type": "stream",
     "text": [
      "apple\n",
      "banana\n",
      "elderberry\n",
      "Mango\n"
     ]
    }
   ],
   "source": [
    "fruits = [\"apple\", \"banana\", \"cherry\", \"date\", \"elderberry\", \"Mango\"]\n",
    "\n",
    "for fruit in fruits:\n",
    "    if fruit in [\"cherry\", \"date\"]:\n",
    "        continue\n",
    "    print(fruit)\n"
   ]
  },
  {
   "cell_type": "code",
   "execution_count": 24,
   "metadata": {},
   "outputs": [
    {
     "name": "stdout",
     "output_type": "stream",
     "text": [
      "Prince William\n",
      "Prince Harry\n",
      "Peter Phillips\n",
      "Zara Tindall\n",
      "Princess Beatrice\n",
      "Princess Eugenie\n",
      "Lady Louise\n",
      "James\n"
     ]
    }
   ],
   "source": [
    "queen_elizabeth_grandchildren = [\n",
    "    \"Prince William\",\n",
    "    \"Prince Harry\",\n",
    "    \"Peter Phillips\",\n",
    "    \"Zara Tindall\",\n",
    "    \"Princess Beatrice\",\n",
    "    \"Princess Eugenie\",\n",
    "    \"Lady Louise\",\n",
    "    \"James\"\n",
    "]\n",
    "\n",
    "# Print the list of grandchildren\n",
    "for grandchild in queen_elizabeth_grandchildren:\n",
    "    print(grandchild)\n"
   ]
  },
  {
   "cell_type": "markdown",
   "metadata": {},
   "source": [
    "### While Loops\n",
    "\n",
    "* Allow you to repeat a block of code as long as a certain condition remains `True`.\n",
    "* Basic Syntax \n",
    "```\n",
    "while condition:\n",
    "    # code block \n",
    "    # to execute\n",
    "```\n",
    "* Its very crucial to make sure that the condition eventually becomes *False*: Reason - otherwise you will end up with an infinite loop, cause your program to run indefinitely(Well till your ram crashes)"
   ]
  },
  {
   "cell_type": "code",
   "execution_count": 25,
   "metadata": {},
   "outputs": [
    {
     "name": "stdout",
     "output_type": "stream",
     "text": [
      "10\n",
      "15\n",
      "20\n",
      "25\n",
      "30\n",
      "35\n",
      "40\n",
      "45\n",
      "50\n"
     ]
    }
   ],
   "source": [
    "# Example of while loop\n",
    "count = 10\n",
    "while count <= 50:\n",
    "    print(count)\n",
    "    count += 5"
   ]
  },
  {
   "cell_type": "code",
   "execution_count": 28,
   "metadata": {},
   "outputs": [
    {
     "name": "stdout",
     "output_type": "stream",
     "text": [
      "apple\n",
      "orange\n",
      "kiwi\n",
      "date\n"
     ]
    }
   ],
   "source": [
    "fruits = [\"apple\", \"banana\", \"orange\", \"grape\", \"kiwi\", \"Mango\",\"date\"]\n",
    "index = 0\n",
    "\n",
    "while index < len(fruits):\n",
    "    print(fruits[index])\n",
    "    index += 2"
   ]
  },
  {
   "cell_type": "code",
   "execution_count": 29,
   "metadata": {},
   "outputs": [
    {
     "name": "stdout",
     "output_type": "stream",
     "text": [
      "Hon. Lady Justice Agnes Murgor-Chair AJCPC\n",
      "Hon. Justice Smokin Wanjala-\n",
      "Hon. Justice Jairus Ngaah-\n",
      "Hon. Justice Stephen Radido-\n",
      "Lady Justice N. Gacheru-\n",
      "Hon. Esther Nyaiyaki-\n",
      "Hon. Moses Serem-\n",
      "Hon. Peter Mulwa-\n",
      "Hon. Judith Omange-\n",
      "Dr. Masha Baraza-\n",
      "Mr. Fredrick Momanyi-\n",
      "Hon. Jacinta Orwa -\n",
      "Hon. Ishaq Abdujabar -\n",
      "Hon Joseph Were –\n",
      "Hon John Lolwatan Tamar-\n",
      "Dr. Paul Kimalu – Secretary / Director DPOP\n",
      "Dr. Paul Kimalu\n",
      "Mr. Fredrick Ombwori\n",
      "Mr. George Obai\n",
      "Dr. Joseph Osewe\n",
      "Mr. Gilbert Kirui\n",
      "Mr. Dominic Nyambane\n",
      "Dr. Moses Maranga\n",
      "Mr. Victor Lumumba\n",
      "Mr. Chrispine Omollo\n",
      "Mr. Alex Njeru\n",
      "Mr. Yussuf Jarso\n",
      "Ms. Everlyne Kuloba Simiyu\n",
      "Ms. Linda Lukhale\n",
      "Mr. Martin Astiba\n",
      "Mr. Solomon Onaya\n"
     ]
    }
   ],
   "source": [
    "AJPMC = [\n",
    "    \"Hon. Lady Justice Agnes Murgor-Chair AJCPC\",\n",
    "    \"Hon. Justice Smokin Wanjala-Member\",\n",
    "    \"Hon. Justice Jairus Ngaah- Member\",\n",
    "    \"Hon. Justice Stephen Radido-Member\",\n",
    "    \"Lady Justice N. Gacheru-Member\",\n",
    "    \"Hon. Esther Nyaiyaki- Member\",\n",
    "    \"Hon. Moses Serem- Member\",\n",
    "    \"Hon. Peter Mulwa- Member\",\n",
    "    \"Hon. Judith Omange- Member\",\n",
    "    \"Dr. Masha Baraza- Member\",\n",
    "    \"Mr. Fredrick Momanyi- Member\",\n",
    "    \"Hon. Jacinta Orwa - Member\",\n",
    "    \"Hon. Ishaq Abdujabar - Member\",\n",
    "    \"Hon Joseph Were –Member\",\n",
    "    \"Hon John Lolwatan Tamar-Member\",\n",
    "    \"Dr. Paul Kimalu – Secretary / Director DPOP\",\n",
    "    \"Dr. Paul Kimalu\",\n",
    "    \"Mr. Fredrick Ombwori\",\n",
    "    \"Mr. George Obai\",\n",
    "    \"Dr. Joseph Osewe\",\n",
    "    \"Mr. Gilbert Kirui\",\n",
    "    \"Mr. Dominic Nyambane\",\n",
    "    \"Dr. Moses Maranga\",\n",
    "    \"Mr. Victor Lumumba\",\n",
    "    \"Mr. Chrispine Omollo\",\n",
    "    \"Mr. Alex Njeru\",\n",
    "    \"Mr. Yussuf Jarso\",\n",
    "    \"Ms. Everlyne Kuloba Simiyu\",\n",
    "    \"Ms. Linda Lukhale\",\n",
    "    \"Mr. Martin Astiba\",\n",
    "    \"Mr. Solomon Onaya\"\n",
    "]\n",
    "\n",
    "# Remove the word \"Member\" from each name\n",
    "AJPMC_cleaned = [name.replace(\"Member\", \"\").strip() for name in AJPMC]\n",
    "\n",
    "# Print the cleaned names\n",
    "for name in AJPMC_cleaned:\n",
    "    print(name)"
   ]
  },
  {
   "cell_type": "code",
   "execution_count": 30,
   "metadata": {},
   "outputs": [
    {
     "name": "stdout",
     "output_type": "stream",
     "text": [
      "* * * * * \n"
     ]
    }
   ],
   "source": [
    "# nested while loop\n",
    "while (i < rows):\n",
    "    j = 0\n",
    "    while j <= i:\n",
    "        print(\"*\", end=\" \")\n",
    "        j += 1\n",
    "    print()\n",
    "    i += 1\n"
   ]
  },
  {
   "cell_type": "code",
   "execution_count": 31,
   "metadata": {},
   "outputs": [
    {
     "name": "stdout",
     "output_type": "stream",
     "text": [
      "* \n",
      "* * \n",
      "* * * \n",
      "* * * * \n",
      "* * * * * \n"
     ]
    }
   ],
   "source": [
    "rows = 5\n",
    "i = 0\n",
    "\n",
    "while (i < rows):\n",
    "    j = 0\n",
    "    while j <= i:\n",
    "        print(\"*\", end=\" \")\n",
    "        j += 1\n",
    "    print()\n",
    "    i += 1"
   ]
  }
 ],
 "metadata": {
  "kernelspec": {
   "display_name": "Python 3 (ipykernel)",
   "language": "python",
   "name": "python3"
  },
  "language_info": {
   "codemirror_mode": {
    "name": "ipython",
    "version": 3
   },
   "file_extension": ".py",
   "mimetype": "text/x-python",
   "name": "python",
   "nbconvert_exporter": "python",
   "pygments_lexer": "ipython3",
   "version": "3.11.3"
  }
 },
 "nbformat": 4,
 "nbformat_minor": 4
}
