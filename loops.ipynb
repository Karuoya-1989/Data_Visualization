{
 "cells": [
  {
   "cell_type": "markdown",
   "metadata": {},
   "source": [
    "## Objectives\n",
    "\n",
    "* Understand the concept\n",
    "* Demonstrate the types of loops\n",
    "* Discuss the syntax\n",
    "* Understand the concept of loop control\n",
    "* Discuss Iteration\n",
    "* Discuss Nested Loops\n",
    "* Enhancing Loops Functionality"
   ]
  },
  {
   "cell_type": "markdown",
   "metadata": {},
   "source": [
    "## INTRODUCTION TO REPITITION\n"
   ]
  },
  {
   "cell_type": "markdown",
   "metadata": {},
   "source": [
    "* Repition is a fundemenatal concept in programming that involves perfroming the same set of instruction multiple times.\n",
    "* Used to automate  task that requires repeat execution of codes e.g *MPesa*\n",
    "* Loops  are a key mechanism in programmin to achieve efficiency in repition"
   ]
  },
  {
   "cell_type": "markdown",
   "metadata": {},
   "source": []
  },
  {
   "cell_type": "code",
   "execution_count": 1,
   "metadata": {},
   "outputs": [
    {
     "name": "stdout",
     "output_type": "stream",
     "text": [
      "1\n",
      "2\n",
      "3\n"
     ]
    }
   ],
   "source": [
    "# Consider a scenario counting 1 to 10\n",
    "print(1)\n",
    "print(2)\n",
    "print(3)"
   ]
  },
  {
   "cell_type": "code",
   "execution_count": 9,
   "metadata": {},
   "outputs": [
    {
     "name": "stdout",
     "output_type": "stream",
     "text": [
      "1\n",
      "2\n",
      "3\n",
      "4\n",
      "5\n",
      "6\n",
      "7\n",
      "8\n",
      "9\n",
      "10\n"
     ]
    }
   ],
   "source": [
    "# Programming loops\n",
    "for num in range(1, 11):\n",
    "    print(num)\n"
   ]
  },
  {
   "cell_type": "code",
   "execution_count": 21,
   "metadata": {},
   "outputs": [
    {
     "name": "stdout",
     "output_type": "stream",
     "text": [
      "Number: 0\n",
      "Number: 1\n",
      "Number: 2\n",
      "Number: 3\n",
      "Number: 4\n"
     ]
    }
   ],
   "source": [
    "# use while loop\n",
    "count = 0\n",
    "while count < 5:\n",
    "    print(\"Number:\", count)\n",
    "    count += 1 # what does this code do?\n",
    "    "
   ]
  },
  {
   "cell_type": "markdown",
   "metadata": {},
   "source": [
    "## What is a loop?\n",
    "* A loop is programming constract that enables the repeated execution of a specific block of codes (*indented code*)\n",
    "* Loop are used when you want to automate a task that need to be performed multiplee times.\n",
    "* They control the flow of the program , allowing certain code to be executed repeatedly until a **condition is met**."
   ]
  },
  {
   "cell_type": "code",
   "execution_count": 25,
   "metadata": {},
   "outputs": [
    {
     "name": "stdout",
     "output_type": "stream",
     "text": [
      "1\n",
      "2\n",
      "3\n",
      "4\n",
      "5\n",
      "6\n",
      "7\n",
      "8\n",
      "9\n",
      "10\n",
      "11\n",
      "12\n",
      "13\n",
      "14\n",
      "15\n"
     ]
    }
   ],
   "source": [
    "# list of number\n",
    "numbers= [1, 2, 3, 4, 5, 6, 7, 8, 9, 10, 11, 12, 13, 14, 15]\n",
    "# empty list\n",
    "for pos in numbers:\n",
    "    print(pos) "
   ]
  },
  {
   "cell_type": "code",
   "execution_count": 26,
   "metadata": {},
   "outputs": [
    {
     "name": "stdout",
     "output_type": "stream",
     "text": [
      "[2, 4, 6, 8, 10, 12, 14]\n"
     ]
    }
   ],
   "source": [
    "# for fun\n",
    "even_numbers = []\n",
    "for pos in numbers:\n",
    "    if (pos % 2 == 0):\n",
    "        even_numbers.append(pos)\n",
    "print(even_numbers)"
   ]
  },
  {
   "cell_type": "code",
   "execution_count": 30,
   "metadata": {},
   "outputs": [
    {
     "name": "stdout",
     "output_type": "stream",
     "text": [
      "[1, 3, 5, 7, 9, 11, 13, 15]\n"
     ]
    }
   ],
   "source": [
    "# for fun\n",
    "odd_numbers = []\n",
    "for pos in numbers:\n",
    "    if (pos % 2 == 1):\n",
    "        odd_numbers.append(pos)\n",
    "print(odd_numbers)"
   ]
  },
  {
   "cell_type": "code",
   "execution_count": 31,
   "metadata": {},
   "outputs": [
    {
     "name": "stdout",
     "output_type": "stream",
     "text": [
      "91\n"
     ]
    }
   ],
   "source": [
    "# Using loop to get the sum betwwen a range\n",
    "sum = 0\n",
    "# Creating a loop\n",
    "for pos in range(1, 14): # range is btwn excluding 14\n",
    "    sum += pos\n",
    "print(sum)"
   ]
  },
  {
   "cell_type": "markdown",
   "metadata": {},
   "source": [
    "## Control flow\n",
    "* loops influnce the order in which instruction are executed.\n",
    "* When a loop is encountered, the program enters *loop body* executing the contained code.\n",
    "* syntax\n",
    "```\n",
    "loop made of condition\n",
    "    contained blocked of\n",
    "    codes to be exected\n",
    "    when condition in True/met\n",
    "loop is done\n",
    "Program exits the loop\n",
    "```\n",
    "* At each iteration, the program checks the loop condition. If the condition remains **True**, the loop body is executed again.\n",
    "* if it becames **False** the program exits the loop\n",
    "* **Iteration** refers to each cycle or repition of a loop"
   ]
  },
  {
   "cell_type": "code",
   "execution_count": 34,
   "metadata": {},
   "outputs": [
    {
     "name": "stdout",
     "output_type": "stream",
     "text": [
      "This is an example of a loop\n",
      "Just a Demonstartion\n",
      "countdown value: 5!!\n",
      "countdown value: 4!!\n",
      "countdown value: 3!!\n",
      "countdown value: 2!!\n",
      "countdown value: 1!!\n",
      "Exit loop!! and program continues\n"
     ]
    }
   ],
   "source": [
    "# example of a loop\n",
    "# Assuming that its a block\n",
    "print(\"This is an example of a loop\")\n",
    "print(\"Just a Demonstartion\")\n",
    "# Loop stimulate a coutdown\n",
    "coutdown = 5\n",
    "# when a pragram meets a loop block >> while loop\n",
    "while (coutdown > 0):\n",
    "    # code when the condition is TRUE\n",
    "    print(f\"countdown value: {coutdown}!!\")\n",
    "    coutdown -= 1\n",
    "    # program exits the loop when no longer met\n",
    "print(\"Exit loop!! and program continues\")\n"
   ]
  },
  {
   "cell_type": "markdown",
   "metadata": {},
   "source": [
    "## Types of loops\n",
    "* **While** and **for**\n",
    "* type depends whether you know the number of iterations in advance or if it depends on a condition"
   ]
  },
  {
   "cell_type": "markdown",
   "metadata": {},
   "source": [
    "### For Loop\n",
    "* Basic Syntax\n",
    "```\n",
    "for item in sequence:\n",
    "    # code to be executed for each item\n",
    "    # ...\n",
    "```\n",
    "* `for` : keyword that signals the start of a  for loop.\n",
    "* `item`: is avariable that represent the current item in the sequence during each interation of the loop\n",
    "* `in` : Keyword used to specify that you are interating *in* the given sequence\n",
    "* `sequence` : collection of items that you have to iterate over (e.g., )\n",
    "*  ':' : start of the indented code block that will be executed for each iteration of the loop.\n",
    "\n",
    "Inside the indented code block, you place the actions/operations that you want to perform on each item in the sequence. The loop will automatically iterate through the entire sequence, executing the code block for each block."
   ]
  },
  {
   "cell_type": "code",
   "execution_count": 2,
   "metadata": {},
   "outputs": [
    {
     "name": "stdout",
     "output_type": "stream",
     "text": [
      "K\n",
      "a\n",
      "r\n",
      "u\n",
      "o\n",
      "y\n",
      "a\n"
     ]
    }
   ],
   "source": [
    "name = \"Karuoya\"\n",
    "for letter in name :\n",
    "    print(letter)"
   ]
  },
  {
   "cell_type": "code",
   "execution_count": 6,
   "metadata": {},
   "outputs": [
    {
     "name": "stdout",
     "output_type": "stream",
     "text": [
      "Kerugoya\n",
      "Nyeri\n",
      "Embu\n",
      "Muranga\n",
      "Kiambu\n"
     ]
    }
   ],
   "source": [
    "# Code demo\n",
    "# List of sample High_Courts\n",
    "high_courts = [ 'Kerugoya', 'Nyeri', 'Embu', 'Muranga', 'Kiambu', 'Machakos', 'Chuka', 'Meru']\n",
    "for courts in high_courts: \n",
    "    # code block to execute\n",
    "    print(courts)\n",
    "    if (courts == 'Kiambu'):\n",
    "        break;\n"
   ]
  },
  {
   "cell_type": "markdown",
   "metadata": {},
   "source": [
    "## Sequence types\n",
    "* Refers to data structures that hold collection of elements, has to accessible by **index** or *key*\n",
    "* Elements are ordered, meaning they have a specific position within the squence"
   ]
  },
  {
   "cell_type": "code",
   "execution_count": 25,
   "metadata": {},
   "outputs": [
    {
     "name": "stdout",
     "output_type": "stream",
     "text": [
      "Kerugoya\n"
     ]
    }
   ],
   "source": [
    "\n",
    "print(high_courts[0])"
   ]
  },
  {
   "cell_type": "code",
   "execution_count": 29,
   "metadata": {},
   "outputs": [
    {
     "name": "stdout",
     "output_type": "stream",
     "text": [
      "kerugoya\n",
      "nyeri\n",
      "embu\n",
      "muranga\n",
      "kiambu\n",
      "machakos\n",
      "chuka\n",
      "meru\n"
     ]
    }
   ],
   "source": [
    "for court in high_courts:\n",
    "    lower_case = court.lower()\n",
    "    print(lower_case)"
   ]
  },
  {
   "cell_type": "markdown",
   "metadata": {},
   "source": [
    "# tuple > Similar to list but they are imutable, meaning:\n",
    "# their contents cannot be changed after creation\n",
    "# syntax tuple_name = ( item1, item2.....)"
   ]
  },
  {
   "cell_type": "code",
   "execution_count": null,
   "metadata": {},
   "outputs": [],
   "source": []
  },
  {
   "cell_type": "code",
   "execution_count": 31,
   "metadata": {},
   "outputs": [
    {
     "name": "stdout",
     "output_type": "stream",
     "text": [
      "KERUGOYA\n",
      "NYERI\n",
      "EMBU\n",
      "MURANGA\n",
      "KIAMBU\n",
      "MACHAKOS\n",
      "CHUKA\n",
      "MERU\n"
     ]
    }
   ],
   "source": [
    "for court in high_courts:\n",
    "    upper_case = court.upper()\n",
    "    print(upper_case)"
   ]
  },
  {
   "cell_type": "code",
   "execution_count": 35,
   "metadata": {},
   "outputs": [
    {
     "name": "stdout",
     "output_type": "stream",
     "text": [
      "('Maggy', 'Carol', 'Eva', 'Chemu')\n",
      "Maggy\n"
     ]
    }
   ],
   "source": [
    "noise_makers =(\"Maggy\", \"Carol\", \"Eva\", \"Chemu\",)\n",
    "print(noise_makers)\n",
    "print(noise_makers[0])"
   ]
  },
  {
   "cell_type": "code",
   "execution_count": 36,
   "metadata": {},
   "outputs": [
    {
     "name": "stdout",
     "output_type": "stream",
     "text": [
      "Maggy\n",
      "Carol\n",
      "Eva\n",
      "Chemu\n"
     ]
    }
   ],
   "source": [
    "for RSD in noise_makers:\n",
    "    print(RSD)"
   ]
  }
 ],
 "metadata": {
  "kernelspec": {
   "display_name": "Python 3 (ipykernel)",
   "language": "python",
   "name": "python3"
  },
  "language_info": {
   "codemirror_mode": {
    "name": "ipython",
    "version": 3
   },
   "file_extension": ".py",
   "mimetype": "text/x-python",
   "name": "python",
   "nbconvert_exporter": "python",
   "pygments_lexer": "ipython3",
   "version": "3.11.4"
  }
 },
 "nbformat": 4,
 "nbformat_minor": 4
}
