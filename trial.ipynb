{
 "cells": [
  {
   "cell_type": "code",
   "execution_count": 4,
   "metadata": {},
   "outputs": [
    {
     "name": "stdout",
     "output_type": "stream",
     "text": [
      "['Alex', 'John', 'Carol']\n"
     ]
    }
   ],
   "source": [
    "def students():\n",
    "    student_list = []\n",
    "    student_list.append(\"Alex\")\n",
    "    student_list.append(\"John\")\n",
    "    student_list.append(\"Carol\")\n",
    "    return student_list\n",
    "\n",
    "wanafunzi= students()  # You need to call the function using parentheses\n",
    "print(wanafunzi)\n"
   ]
  },
  {
   "cell_type": "code",
   "execution_count": 5,
   "metadata": {},
   "outputs": [
    {
     "name": "stdout",
     "output_type": "stream",
     "text": [
      "['Eng', 'Kisw', 'Math', 'CRE', 'GHC']\n"
     ]
    }
   ],
   "source": [
    "def subjects():\n",
    "    subject = [\"Eng\", \"Kisw\", \"Math\", \"CRE\", \"GHC\"]\n",
    "    return subject\n",
    "\n",
    "Subjects= subjects()\n",
    "print(Subjects)\n",
    "\n",
    "\n"
   ]
  },
  {
   "cell_type": "code",
   "execution_count": 6,
   "metadata": {},
   "outputs": [
    {
     "data": {
      "text/plain": [
       "['76', '34', '34', '54', '23']"
      ]
     },
     "execution_count": 6,
     "metadata": {},
     "output_type": "execute_result"
    }
   ],
   "source": [
    "def get_grades():\n",
    "    #count = 5\n",
    "    student_scores =[]\n",
    "    subjects = [\"Eng\", \"Kisw\", \"Math\", \"CRE\", \"GHC\"]\n",
    "    # while (count< = 5)\n",
    "    for subject in subjects:\n",
    "        score = input(f\"enter {subject} score: \\n\")\n",
    "        student_scores.append(score)\n",
    "    return student_scores\n",
    "get_grades()\n",
    "\n",
    "\n",
    "\n",
    "\n",
    "\n",
    "    "
   ]
  },
  {
   "cell_type": "code",
   "execution_count": 7,
   "metadata": {},
   "outputs": [
    {
     "data": {
      "text/plain": [
       "'John'"
      ]
     },
     "execution_count": 7,
     "metadata": {},
     "output_type": "execute_result"
    }
   ],
   "source": [
    "def student_name():\n",
    "    name =  input(\"student_name e.g Jane: \\n\")\n",
    "    return name\n",
    "student_name()"
   ]
  },
  {
   "cell_type": "code",
   "execution_count": 8,
   "metadata": {},
   "outputs": [
    {
     "data": {
      "text/plain": [
       "[23, 87, 90, 43, 23]"
      ]
     },
     "execution_count": 8,
     "metadata": {},
     "output_type": "execute_result"
    }
   ],
   "source": [
    "# getting individual score\n",
    "def get_scores():\n",
    "    student_scores = []\n",
    "    subjects = [\"Eng\", \"Kisw\", \"Math\", \"CRE\", \"GHC\"]\n",
    "\n",
    "    for subject in subjects:\n",
    "        score = int(input(f\"Enter {subject} score: \"))\n",
    "        student_scores.append(score)\n",
    "\n",
    "    return student_scores\n",
    "\n",
    "get_scores()\n"
   ]
  },
  {
   "cell_type": "code",
   "execution_count": 9,
   "metadata": {},
   "outputs": [
    {
     "data": {
      "text/plain": [
       "355"
      ]
     },
     "execution_count": 9,
     "metadata": {},
     "output_type": "execute_result"
    }
   ],
   "source": [
    "# get the total score\n",
    "def student_total():\n",
    "\n",
    "    student_scores = get_scores ()\n",
    "    total = sum(student_scores)\n",
    "    return total\n",
    "\n",
    "student_total()\n",
    "\n",
    "    "
   ]
  },
  {
   "cell_type": "code",
   "execution_count": 10,
   "metadata": {},
   "outputs": [
    {
     "data": {
      "text/plain": [
       "('Jane', [23, 56, 43, 89, 54], ['D', 'D', 'D', 'A', 'D'], 265)"
      ]
     },
     "execution_count": 10,
     "metadata": {},
     "output_type": "execute_result"
    }
   ],
   "source": [
    "def student_perf ():\n",
    "    students = student_name()\n",
    "    student_score = get_scores()\n",
    "    student_grade = []\n",
    "    # loop through the grade\n",
    "    for score in student_score:\n",
    "        if (score >= 80) and (score <= 100):\n",
    "            grade = \"A\"\n",
    "            student_grade.append(grade)\n",
    "        elif (score >=70) and (score<80):\n",
    "            grade = \"B\"\n",
    "            student_grade.append(grade)\n",
    "        elif (score >=60) and (score<70):\n",
    "            grade = \"C\"\n",
    "            student_grade.append(grade)\n",
    "        elif (score >=50) and (score<60):\n",
    "            grade = \"D\"\n",
    "            student_grade.append(grade)\n",
    "        elif (score <50) and (score>=0):\n",
    "            grade = \"D\"\n",
    "            student_grade.append(grade)\n",
    "        else:\n",
    "            print(\"invalid grade\")\n",
    "            student_grade.append(none)\n",
    "            \n",
    "    total = sum(student_score)\n",
    "    \n",
    "    return(students, student_score, student_grade, total)\n",
    "\n",
    "\n",
    "student_perf()\n"
   ]
  },
  {
   "cell_type": "code",
   "execution_count": 13,
   "metadata": {},
   "outputs": [
    {
     "name": "stdout",
     "output_type": "stream",
     "text": [
      "{'Name': ['Alex'], 'Eng': [45], 'Eng_grade': ['D'], 'Kisw': [34], 'Kisw_grade': ['D'], 'Math': [90], 'Math_grade': ['A'], 'CRE': [100], 'CRE_grade': ['A'], 'GHC': [45], 'GHC_grade': ['D'], 'total': [314]}\n",
      "{'Name': ['Alex', 'Jane'], 'Eng': [45, 100], 'Eng_grade': ['D', 'A'], 'Kisw': [34, 45], 'Kisw_grade': ['D', 'D'], 'Math': [90, 34], 'Math_grade': ['A', 'D'], 'CRE': [100, 89], 'CRE_grade': ['A', 'A'], 'GHC': [45, 23], 'GHC_grade': ['D', 'D'], 'total': [314, 291]}\n",
      "{'Name': ['Alex', 'Jane', 'Bob'], 'Eng': [45, 100, 23], 'Eng_grade': ['D', 'A', 'D'], 'Kisw': [34, 45, 45], 'Kisw_grade': ['D', 'D', 'D'], 'Math': [90, 34, 67], 'Math_grade': ['A', 'D', 'C'], 'CRE': [100, 89, 34], 'CRE_grade': ['A', 'A', 'D'], 'GHC': [45, 23, 43], 'GHC_grade': ['D', 'D', 'D'], 'total': [314, 291, 212]}\n",
      "{'Name': ['Alex', 'Jane', 'Bob', 'Vic'], 'Eng': [45, 100, 23, 89], 'Eng_grade': ['D', 'A', 'D', 'A'], 'Kisw': [34, 45, 45, 23], 'Kisw_grade': ['D', 'D', 'D', 'D'], 'Math': [90, 34, 67, 27], 'Math_grade': ['A', 'D', 'C', 'D'], 'CRE': [100, 89, 34, 87], 'CRE_grade': ['A', 'A', 'D', 'A'], 'GHC': [45, 23, 43, 56], 'GHC_grade': ['D', 'D', 'D', 'D'], 'total': [314, 291, 212, 282]}\n"
     ]
    }
   ],
   "source": [
    "# Adding more Students Perfomance\n",
    "student_number = 0\n",
    "Class_performance ={\n",
    "    \"Name\": [],\n",
    "    \"Eng\": [],\n",
    "    \"Eng_grade\": [],\n",
    "    \"Kisw\": [],\n",
    "    \"Kisw_grade\": [],\n",
    "    \"Math\": [],\n",
    "    \"Math_grade\": [],\n",
    "    \"CRE\": [],\n",
    "    \"CRE_grade\": [],\n",
    "    \"GHC\": [],\n",
    "    \"GHC_grade\": [],\n",
    "    \"total\": []\n",
    "}\n",
    "\n",
    "\n",
    "while student_number <= 3:\n",
    "    indiv_student = student_perf()\n",
    "    indiv_student = list(indiv_student)\n",
    "    Class_performance[\"Name\"].append(indiv_student[0]) # First name in the indiv perf list\n",
    "    Class_performance[\"Eng\"].append(indiv_student[1][0]) # First subject\n",
    "    Class_performance[\"Eng_grade\"].append(indiv_student[2][0])\n",
    "    Class_performance[\"Kisw\"].append(indiv_student[1][1])\n",
    "    Class_performance[\"Kisw_grade\"].append(indiv_student[2][1])\n",
    "    Class_performance[\"Math\"].append(indiv_student[1][2])\n",
    "    Class_performance[\"Math_grade\"].append(indiv_student[2][2])\n",
    "    Class_performance[\"CRE\"].append(indiv_student[1][3])\n",
    "    Class_performance[\"CRE_grade\"].append(indiv_student[2][3])\n",
    "    Class_performance[\"GHC\"].append(indiv_student[1][4])\n",
    "    Class_performance[\"GHC_grade\"].append(indiv_student[2][4])\n",
    "    Class_performance[\"total\"].append(indiv_student[3])                                       \n",
    "    student_number += 1\n",
    "    print(Class_performance)"
   ]
  },
  {
   "cell_type": "code",
   "execution_count": 14,
   "metadata": {},
   "outputs": [
    {
     "data": {
      "text/html": [
       "<div>\n",
       "<style scoped>\n",
       "    .dataframe tbody tr th:only-of-type {\n",
       "        vertical-align: middle;\n",
       "    }\n",
       "\n",
       "    .dataframe tbody tr th {\n",
       "        vertical-align: top;\n",
       "    }\n",
       "\n",
       "    .dataframe thead th {\n",
       "        text-align: right;\n",
       "    }\n",
       "</style>\n",
       "<table border=\"1\" class=\"dataframe\">\n",
       "  <thead>\n",
       "    <tr style=\"text-align: right;\">\n",
       "      <th></th>\n",
       "      <th>Name</th>\n",
       "      <th>Eng</th>\n",
       "      <th>Eng_grade</th>\n",
       "      <th>Kisw</th>\n",
       "      <th>Kisw_grade</th>\n",
       "      <th>Math</th>\n",
       "      <th>Math_grade</th>\n",
       "      <th>CRE</th>\n",
       "      <th>CRE_grade</th>\n",
       "      <th>GHC</th>\n",
       "      <th>GHC_grade</th>\n",
       "      <th>total</th>\n",
       "    </tr>\n",
       "  </thead>\n",
       "  <tbody>\n",
       "    <tr>\n",
       "      <th>0</th>\n",
       "      <td>Alex</td>\n",
       "      <td>45</td>\n",
       "      <td>D</td>\n",
       "      <td>34</td>\n",
       "      <td>D</td>\n",
       "      <td>90</td>\n",
       "      <td>A</td>\n",
       "      <td>100</td>\n",
       "      <td>A</td>\n",
       "      <td>45</td>\n",
       "      <td>D</td>\n",
       "      <td>314</td>\n",
       "    </tr>\n",
       "    <tr>\n",
       "      <th>1</th>\n",
       "      <td>Jane</td>\n",
       "      <td>100</td>\n",
       "      <td>A</td>\n",
       "      <td>45</td>\n",
       "      <td>D</td>\n",
       "      <td>34</td>\n",
       "      <td>D</td>\n",
       "      <td>89</td>\n",
       "      <td>A</td>\n",
       "      <td>23</td>\n",
       "      <td>D</td>\n",
       "      <td>291</td>\n",
       "    </tr>\n",
       "    <tr>\n",
       "      <th>2</th>\n",
       "      <td>Bob</td>\n",
       "      <td>23</td>\n",
       "      <td>D</td>\n",
       "      <td>45</td>\n",
       "      <td>D</td>\n",
       "      <td>67</td>\n",
       "      <td>C</td>\n",
       "      <td>34</td>\n",
       "      <td>D</td>\n",
       "      <td>43</td>\n",
       "      <td>D</td>\n",
       "      <td>212</td>\n",
       "    </tr>\n",
       "    <tr>\n",
       "      <th>3</th>\n",
       "      <td>Vic</td>\n",
       "      <td>89</td>\n",
       "      <td>A</td>\n",
       "      <td>23</td>\n",
       "      <td>D</td>\n",
       "      <td>27</td>\n",
       "      <td>D</td>\n",
       "      <td>87</td>\n",
       "      <td>A</td>\n",
       "      <td>56</td>\n",
       "      <td>D</td>\n",
       "      <td>282</td>\n",
       "    </tr>\n",
       "  </tbody>\n",
       "</table>\n",
       "</div>"
      ],
      "text/plain": [
       "   Name  Eng Eng_grade  Kisw Kisw_grade  Math Math_grade  CRE CRE_grade  GHC  \\\n",
       "0  Alex   45         D    34          D    90          A  100         A   45   \n",
       "1  Jane  100         A    45          D    34          D   89         A   23   \n",
       "2   Bob   23         D    45          D    67          C   34         D   43   \n",
       "3   Vic   89         A    23          D    27          D   87         A   56   \n",
       "\n",
       "  GHC_grade  total  \n",
       "0         D    314  \n",
       "1         D    291  \n",
       "2         D    212  \n",
       "3         D    282  "
      ]
     },
     "execution_count": 14,
     "metadata": {},
     "output_type": "execute_result"
    }
   ],
   "source": [
    "import pandas as pd\n",
    "df = pd.DataFrame(Class_performance)\n",
    "df"
   ]
  }
 ],
 "metadata": {
  "kernelspec": {
   "display_name": "Python 3",
   "language": "python",
   "name": "python3"
  },
  "language_info": {
   "codemirror_mode": {
    "name": "ipython",
    "version": 3
   },
   "file_extension": ".py",
   "mimetype": "text/x-python",
   "name": "python",
   "nbconvert_exporter": "python",
   "pygments_lexer": "ipython3",
   "version": "3.11.4"
  },
  "orig_nbformat": 4
 },
 "nbformat": 4,
 "nbformat_minor": 2
}
