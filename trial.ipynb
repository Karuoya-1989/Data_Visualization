{
 "cells": [
  {
   "cell_type": "code",
   "execution_count": 6,
   "metadata": {},
   "outputs": [
    {
     "name": "stdout",
     "output_type": "stream",
     "text": [
      "['Alex', 'John', 'Carol']\n"
     ]
    }
   ],
   "source": [
    "def students():\n",
    "    student_list = []\n",
    "    student_list.append(\"Alex\")\n",
    "    student_list.append(\"John\")\n",
    "    student_list.append(\"Carol\")\n",
    "    return student_list\n",
    "\n",
    "wanafunzi= students()  # You need to call the function using parentheses\n",
    "print(wanafunzi)\n"
   ]
  },
  {
   "cell_type": "code",
   "execution_count": 4,
   "metadata": {},
   "outputs": [
    {
     "name": "stdout",
     "output_type": "stream",
     "text": [
      "['Eng', 'Kisw', 'Math', 'CRE', 'GHC']\n"
     ]
    }
   ],
   "source": [
    "def subjects():\n",
    "    subject = [\"Eng\", \"Kisw\", \"Math\", \"CRE\", \"GHC\"]\n",
    "    return subject\n",
    "\n",
    "Subjects= subjects()\n",
    "print(Subjects)\n",
    "\n",
    "\n"
   ]
  },
  {
   "cell_type": "code",
   "execution_count": 5,
   "metadata": {},
   "outputs": [],
   "source": [
    "def get_grades():\n",
    "    student_scores = get_scores()\n",
    "    student_grade = []\n",
    "    for score in student_scores:\n",
    "        if score >= 80 and score <= 100:\n",
    "            grade =  \"A\"\n",
    "            student_grade.append(grade)\n",
    "        elif score >= 70 and score < 79:\n",
    "            grade =  \"B\"\n",
    "            student_grade.append(grade)\n",
    "        elif score >= 50 and score < 69:\n",
    "            grade = \"C\"\n",
    "            student_grade.append(grade)\n",
    "        elif score >= 40 and score < 49:\n",
    "            grade = \"D\"\n",
    "            student_grade.append(grade)\n",
    "        elif score < 40:\n",
    "            grade =  \"E\"\n",
    "            student_grade.append(grade)\n",
    "        else:\n",
    "            student_grade.append(None)\n",
    "    return student_scores, student_grade"
   ]
  }
 ],
 "metadata": {
  "kernelspec": {
   "display_name": "Python 3",
   "language": "python",
   "name": "python3"
  },
  "language_info": {
   "codemirror_mode": {
    "name": "ipython",
    "version": 3
   },
   "file_extension": ".py",
   "mimetype": "text/x-python",
   "name": "python",
   "nbconvert_exporter": "python",
   "pygments_lexer": "ipython3",
   "version": "3.11.4"
  },
  "orig_nbformat": 4
 },
 "nbformat": 4,
 "nbformat_minor": 2
}
