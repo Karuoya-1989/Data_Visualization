{
 "cells": [
  {
   "cell_type": "markdown",
   "metadata": {},
   "source": [
    "# List\n",
    "* A collection of items in a particular order\n",
    "* Can include strings, float, intergers and any other datatypes.\n",
    "* the sytax is square bracket\n",
    "* we use square bracket````([])````\n",
    "**syntax**:````[item_1, item_2, item_3]````"
   ]
  },
  {
   "cell_type": "code",
   "execution_count": 5,
   "metadata": {},
   "outputs": [
    {
     "name": "stdout",
     "output_type": "stream",
     "text": [
      "['Nyeri', 'Karatina', 'Othaya', 'Baricho']\n"
     ]
    }
   ],
   "source": [
    "towns =[\"Nyeri\", \"Karatina\", \"Othaya\", \"Baricho\"]\n",
    "print(towns)"
   ]
  },
  {
   "cell_type": "code",
   "execution_count": 6,
   "metadata": {},
   "outputs": [
    {
     "data": {
      "text/plain": [
       "list"
      ]
     },
     "execution_count": 6,
     "metadata": {},
     "output_type": "execute_result"
    }
   ],
   "source": [
    "type(towns)\n"
   ]
  },
  {
   "cell_type": "code",
   "execution_count": 8,
   "metadata": {},
   "outputs": [
    {
     "name": "stdout",
     "output_type": "stream",
     "text": [
      "[254726727047, 254706181589, 254720384348]\n"
     ]
    }
   ],
   "source": [
    "phone_no =[254726727047, 254706181589,254720384348]\n",
    "print(phone_no)"
   ]
  },
  {
   "cell_type": "markdown",
   "metadata": {},
   "source": [
    "### Accesing items in a list\n",
    "*they can be accessed by\n",
    "* sytax to access items in a list\n",
    "``list_name[index]``"
   ]
  },
  {
   "cell_type": "code",
   "execution_count": 9,
   "metadata": {},
   "outputs": [
    {
     "name": "stdout",
     "output_type": "stream",
     "text": [
      "['Nyeri', 'Karatina', 'Othaya', 'Baricho']\n"
     ]
    }
   ],
   "source": [
    "#using towns\n",
    "print(towns)"
   ]
  },
  {
   "cell_type": "code",
   "execution_count": 14,
   "metadata": {},
   "outputs": [
    {
     "name": "stdout",
     "output_type": "stream",
     "text": [
      "Nyeri\n"
     ]
    }
   ],
   "source": [
    "\n",
    "print(towns[0])"
   ]
  },
  {
   "cell_type": "code",
   "execution_count": 15,
   "metadata": {},
   "outputs": [
    {
     "name": "stdout",
     "output_type": "stream",
     "text": [
      "othaya\n"
     ]
    }
   ],
   "source": [
    "print(towns[2].lower())"
   ]
  },
  {
   "cell_type": "code",
   "execution_count": 16,
   "metadata": {},
   "outputs": [
    {
     "name": "stdout",
     "output_type": "stream",
     "text": [
      "Baricho\n"
     ]
    }
   ],
   "source": [
    "print(towns[-1])"
   ]
  },
  {
   "cell_type": "code",
   "execution_count": 17,
   "metadata": {},
   "outputs": [
    {
     "name": "stdout",
     "output_type": "stream",
     "text": [
      "Karatina\n"
     ]
    }
   ],
   "source": [
    "print(towns[-3])"
   ]
  },
  {
   "cell_type": "code",
   "execution_count": 23,
   "metadata": {},
   "outputs": [
    {
     "name": "stdout",
     "output_type": "stream",
     "text": [
      "Alex comes from Karatina, and goes to home\n"
     ]
    }
   ],
   "source": [
    "message= f\"Alex comes from {towns[-3]}, and goes to home\"\n",
    "print(message)"
   ]
  },
  {
   "cell_type": "code",
   "execution_count": 30,
   "metadata": {},
   "outputs": [
    {
     "name": "stdout",
     "output_type": "stream",
     "text": [
      "i also like going to Nyeri and Karatina for partying.\n"
     ]
    }
   ],
   "source": [
    "message_2= f\"i also like going to {towns[0]} and {towns[1]} for partying.\"\n",
    "print(message_2)"
   ]
  },
  {
   "cell_type": "markdown",
   "metadata": {},
   "source": [
    "### modifying, adding, and removing elements in a list\n",
    "* list are dynamic, i.e most of the list you will create, you will add item, change, remove & delete the entire list."
   ]
  },
  {
   "cell_type": "code",
   "execution_count": 33,
   "metadata": {},
   "outputs": [
    {
     "name": "stdout",
     "output_type": "stream",
     "text": [
      "['Supreme', 'HighCart']\n"
     ]
    }
   ],
   "source": [
    "# modifying\n",
    "\n",
    "Courts = [\"Supreme\",\"HighCart\"]\n",
    "print(Courts)"
   ]
  },
  {
   "cell_type": "code",
   "execution_count": 34,
   "metadata": {},
   "outputs": [
    {
     "name": "stdout",
     "output_type": "stream",
     "text": [
      "['Supreme', 'High Court']\n"
     ]
    }
   ],
   "source": [
    "# modifying\n",
    "Courts[1]=\"High Court\"\n",
    "print(Courts)"
   ]
  },
  {
   "cell_type": "code",
   "execution_count": 37,
   "metadata": {},
   "outputs": [
    {
     "name": "stdout",
     "output_type": "stream",
     "text": [
      "['Supreme', 'High Court', 'Magistrate_Court']\n"
     ]
    }
   ],
   "source": [
    "# adding item to a list\n",
    "# 1. Adding element at the end of a list- use append.\n",
    "Courts.append(\"Magistrate_Court\")\n",
    "print(Courts)\n",
    "\n"
   ]
  },
  {
   "cell_type": "code",
   "execution_count": 38,
   "metadata": {},
   "outputs": [
    {
     "name": "stdout",
     "output_type": "stream",
     "text": [
      "['Nyeri', 'Karatina', 'Othaya', 'Baricho', 'Kerugoya']\n"
     ]
    }
   ],
   "source": [
    "towns.append(\"Kerugoya\")\n",
    "print(towns)"
   ]
  },
  {
   "cell_type": "code",
   "execution_count": 42,
   "metadata": {},
   "outputs": [
    {
     "name": "stdout",
     "output_type": "stream",
     "text": [
      "['Supreme', 'Court of Appeal', 'Court of Appeal', 'High Court', 'Magistrate_Court']\n"
     ]
    }
   ],
   "source": [
    "# 2. Insert an item into a listat specific position\n",
    "# syntax .insrt(index,item)\n",
    "Courts.insert(1, \"Court of Appeal\")\n",
    "print(Courts)"
   ]
  },
  {
   "cell_type": "code",
   "execution_count": 46,
   "metadata": {},
   "outputs": [
    {
     "name": "stdout",
     "output_type": "stream",
     "text": [
      "['Supreme', 'Court of Appeal', 'ELC', 'Court of Appeal', 'High Court', 'Magistrate_Court']\n"
     ]
    }
   ],
   "source": [
    "Courts.insert(2, \"ELC\",)\n",
    "print(Courts)"
   ]
  },
  {
   "cell_type": "code",
   "execution_count": 47,
   "metadata": {},
   "outputs": [
    {
     "name": "stdout",
     "output_type": "stream",
     "text": [
      "['Supreme', 'Court of Appeal', 'ELC', 'Court of Appeal', 'High Court', 'ELRC', 'Magistrate_Court']\n"
     ]
    }
   ],
   "source": [
    "Courts.insert(5, \"ELRC\",)\n",
    "print(Courts)"
   ]
  },
  {
   "cell_type": "code",
   "execution_count": 48,
   "metadata": {},
   "outputs": [
    {
     "name": "stdout",
     "output_type": "stream",
     "text": [
      "['Supreme', 'Court of Appeal', 'ELC', 'Court of Appeal', 'ELRC', 'Magistrate_Court']\n"
     ]
    }
   ],
   "source": [
    "# removing items\n",
    "# 1. use .pop() to remove an item at the end of a list\n",
    "Courts.pop(4)\n",
    "print(Courts)"
   ]
  },
  {
   "cell_type": "code",
   "execution_count": 55,
   "metadata": {},
   "outputs": [
    {
     "name": "stdout",
     "output_type": "stream",
     "text": [
      "['Court of Appeal', 'Magistrate_Court']\n"
     ]
    }
   ],
   "source": [
    "# Remove. use remove(item_value)\n",
    "Courts.remove(\"ELC\")\n",
    "print(Courts)"
   ]
  },
  {
   "cell_type": "code",
   "execution_count": 57,
   "metadata": {},
   "outputs": [
    {
     "name": "stdout",
     "output_type": "stream",
     "text": [
      "['Court of Appeal']\n"
     ]
    }
   ],
   "source": [
    "# use del to remove a list\n",
    "#syntax del list_name(index)\n",
    "del Courts[1]\n",
    "print(Courts)"
   ]
  },
  {
   "cell_type": "code",
   "execution_count": 11,
   "metadata": {},
   "outputs": [],
   "source": [
    "noise_makers =[\"Martin\", \"John\", \"Chemu\", \"Pato\"]"
   ]
  },
  {
   "cell_type": "code",
   "execution_count": 3,
   "metadata": {},
   "outputs": [
    {
     "name": "stdout",
     "output_type": "stream",
     "text": [
      "Present\n"
     ]
    }
   ],
   "source": [
    "if\"John\" in noise_makers:\n",
    "    print(\"Present\")"
   ]
  },
  {
   "cell_type": "code",
   "execution_count": 12,
   "metadata": {},
   "outputs": [
    {
     "name": "stdout",
     "output_type": "stream",
     "text": [
      "['Martin', 'John', 'Chemu', 'Pato', 'Caroline']\n"
     ]
    }
   ],
   "source": [
    "if \"Caroline\" in noise_makers:\n",
    "    print(noise_makers)\n",
    "else:\n",
    "    noise_makers.append(\"Caroline\")\n",
    "    print(noise_makers)"
   ]
  },
  {
   "cell_type": "code",
   "execution_count": 13,
   "metadata": {},
   "outputs": [
    {
     "name": "stdout",
     "output_type": "stream",
     "text": [
      "['Linda', 'Martin', 'John', 'Chemu', 'Pato', 'Caroline']\n"
     ]
    }
   ],
   "source": [
    "if \"Linda\" in noise_makers:\n",
    "    print(noise_makers)\n",
    "else:\n",
    "    noise_makers.insert(0, \"Linda\")\n",
    "    print(noise_makers)"
   ]
  },
  {
   "cell_type": "code",
   "execution_count": 14,
   "metadata": {},
   "outputs": [
    {
     "name": "stdout",
     "output_type": "stream",
     "text": [
      "list not complete\n"
     ]
    }
   ],
   "source": [
    "if \"Ida\" not in noise_makers:\n",
    "    print(\"list not complete\")"
   ]
  },
  {
   "cell_type": "code",
   "execution_count": 20,
   "metadata": {},
   "outputs": [
    {
     "name": "stdout",
     "output_type": "stream",
     "text": [
      "['Nyambane', 'Linda', 'Martin', 'John', 'Chemu', 'Pato', 'Caroline']\n"
     ]
    }
   ],
   "source": [
    "if \"Nyambane\" in noise_makers:\n",
    "    print(noise_makers)\n",
    "else:\n",
    "    noise_makers.insert(0, \"Nyambane\")\n",
    "    print(noise_makers)"
   ]
  },
  {
   "cell_type": "code",
   "execution_count": 17,
   "metadata": {},
   "outputs": [
    {
     "name": "stdout",
     "output_type": "stream",
     "text": [
      "['Nyambane', 'Linda', 'Martin', 'John', 'Chemu', 'Pato', 'Caroline']\n"
     ]
    }
   ],
   "source": [
    "noise_makers.remove(\"LNyambane\")\n",
    "print(noise_makers)"
   ]
  },
  {
   "cell_type": "code",
   "execution_count": 22,
   "metadata": {},
   "outputs": [
    {
     "data": {
      "text/plain": [
       "7"
      ]
     },
     "execution_count": 22,
     "metadata": {},
     "output_type": "execute_result"
    }
   ],
   "source": [
    "len(noise_makers)"
   ]
  },
  {
   "cell_type": "code",
   "execution_count": 24,
   "metadata": {},
   "outputs": [
    {
     "data": {
      "text/plain": [
       "11"
      ]
     },
     "execution_count": 24,
     "metadata": {},
     "output_type": "execute_result"
    }
   ],
   "source": [
    "phone_no =[1, 4, 33, 67, 89, 65, 34, 12, 9, 45, 36]\n",
    "len(phone_no)"
   ]
  }
 ],
 "metadata": {
  "kernelspec": {
   "display_name": "Python 3 (ipykernel)",
   "language": "python",
   "name": "python3"
  },
  "language_info": {
   "codemirror_mode": {
    "name": "ipython",
    "version": 3
   },
   "file_extension": ".py",
   "mimetype": "text/x-python",
   "name": "python",
   "nbconvert_exporter": "python",
   "pygments_lexer": "ipython3",
   "version": "3.11.3"
  }
 },
 "nbformat": 4,
 "nbformat_minor": 4
}
