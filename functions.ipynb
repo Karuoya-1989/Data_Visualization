{
 "cells": [
  {
   "cell_type": "code",
   "execution_count": 99,
   "metadata": {},
   "outputs": [
    {
     "name": "stdout",
     "output_type": "stream",
     "text": [
      "Hello World\n"
     ]
    }
   ],
   "source": [
    "def greet():\n",
    "    print(\"Hello World\")\n",
    "greet()"
   ]
  },
  {
   "cell_type": "code",
   "execution_count": 100,
   "metadata": {},
   "outputs": [
    {
     "ename": "NameError",
     "evalue": "name 'name' is not defined",
     "output_type": "error",
     "traceback": [
      "\u001b[1;31m---------------------------------------------------------------------------\u001b[0m",
      "\u001b[1;31mNameError\u001b[0m                                 Traceback (most recent call last)",
      "Cell \u001b[1;32mIn[100], line 3\u001b[0m\n\u001b[0;32m      1\u001b[0m \u001b[39mdef\u001b[39;00m \u001b[39mgreet\u001b[39m(name):\n\u001b[0;32m      2\u001b[0m     \u001b[39mprint\u001b[39m(\u001b[39m\"\u001b[39m\u001b[39mHello, \u001b[39m\u001b[39m\"\u001b[39m \u001b[39m+\u001b[39m name)\n\u001b[1;32m----> 3\u001b[0m greet(name)\n",
      "\u001b[1;31mNameError\u001b[0m: name 'name' is not defined"
     ]
    }
   ],
   "source": [
    "def greet(name):\n",
    "    print(\"Hello, \" + name)\n",
    "greet(name)"
   ]
  },
  {
   "cell_type": "markdown",
   "metadata": {},
   "source": [
    "`def greet_user():` \n",
    "* Using the keyword `def` to inform python that you are defining a function, refered to as *function definition*. \n",
    "* Function definition tells python the name of the function, in the example above, **greet_user**.\n",
    "* It also informs python, if applicable, what kind of information the function needs to perform it's task/job, passed into to function using the `()`. In this case, the function need no information to perform its tasks hence the empty brackets.\n",
    "* Any indented lines"
   ]
  },
  {
   "cell_type": "code",
   "execution_count": null,
   "metadata": {},
   "outputs": [
    {
     "name": "stdout",
     "output_type": "stream",
     "text": [
      "30\n"
     ]
    }
   ],
   "source": [
    "def sumation():\n",
    "    a = 10\n",
    "    b = 20\n",
    "    sum = a + b\n",
    "    print(sum)\n",
    "sumation()\n",
    "\n",
    "\n"
   ]
  },
  {
   "cell_type": "code",
   "execution_count": null,
   "metadata": {},
   "outputs": [
    {
     "name": "stdout",
     "output_type": "stream",
     "text": [
      "30\n"
     ]
    }
   ],
   "source": [
    "def sumation():\n",
    "    a = 10\n",
    "    b = 20\n",
    "    sum = a + b\n",
    "    print(sum)\n",
    "\n",
    "# Calling the function to calculate and display the sum\n",
    "sumation()\n"
   ]
  },
  {
   "cell_type": "markdown",
   "metadata": {},
   "source": [
    "* By adding `username` in our function definition, we are allowing the function to accept any value for *username*.\n",
    "* Expectations: - provide a value for a *username* each time call it."
   ]
  },
  {
   "cell_type": "code",
   "execution_count": null,
   "metadata": {},
   "outputs": [
    {
     "ename": "NameError",
     "evalue": "name 'greet_user' is not defined",
     "output_type": "error",
     "traceback": [
      "\u001b[1;31m---------------------------------------------------------------------------\u001b[0m",
      "\u001b[1;31mNameError\u001b[0m                                 Traceback (most recent call last)",
      "Cell \u001b[1;32mIn[24], line 1\u001b[0m\n\u001b[1;32m----> 1\u001b[0m greet_user(\u001b[39m\"\u001b[39m\u001b[39mAlex\u001b[39m\u001b[39m\"\u001b[39m)\n",
      "\u001b[1;31mNameError\u001b[0m: name 'greet_user' is not defined"
     ]
    }
   ],
   "source": [
    "greet_user(\"Alex\")"
   ]
  },
  {
   "cell_type": "markdown",
   "metadata": {},
   "source": [
    "* When you call a function, Python must match each argument in the function call with a parameter in the function definition."
   ]
  },
  {
   "cell_type": "code",
   "execution_count": null,
   "metadata": {},
   "outputs": [
    {
     "name": "stdout",
     "output_type": "stream",
     "text": [
      "The Zen of Python, by Tim Peters\n",
      "\n",
      "Beautiful is better than ugly.\n",
      "Explicit is better than implicit.\n",
      "Simple is better than complex.\n",
      "Complex is better than complicated.\n",
      "Flat is better than nested.\n",
      "Sparse is better than dense.\n",
      "Readability counts.\n",
      "Special cases aren't special enough to break the rules.\n",
      "Although practicality beats purity.\n",
      "Errors should never pass silently.\n",
      "Unless explicitly silenced.\n",
      "In the face of ambiguity, refuse the temptation to guess.\n",
      "There should be one-- and preferably only one --obvious way to do it.\n",
      "Although that way may not be obvious at first unless you're Dutch.\n",
      "Now is better than never.\n",
      "Although never is often better than *right* now.\n",
      "If the implementation is hard to explain, it's a bad idea.\n",
      "If the implementation is easy to explain, it may be a good idea.\n",
      "Namespaces are one honking great idea -- let's do more of those!\n"
     ]
    }
   ],
   "source": [
    "import this"
   ]
  },
  {
   "cell_type": "code",
   "execution_count": null,
   "metadata": {},
   "outputs": [
    {
     "name": "stdout",
     "output_type": "stream",
     "text": [
      "Hello!\n"
     ]
    }
   ],
   "source": [
    "def greet_user():\n",
    "    \"\"\"Display a simple greeting\"\"\"\n",
    "    print(\"Hello!\")\n",
    "\n",
    "greet_user()"
   ]
  },
  {
   "cell_type": "code",
   "execution_count": null,
   "metadata": {},
   "outputs": [
    {
     "name": "stdout",
     "output_type": "stream",
     "text": [
      "Hello Antonny!\n"
     ]
    }
   ],
   "source": [
    "def greet_user(username):\n",
    "    \"\"\"Display a simple greeting\"\"\"\n",
    "    print(f\"Hello {username}!\")\n",
    "\n",
    "greet_user('Antonny')"
   ]
  },
  {
   "cell_type": "code",
   "execution_count": null,
   "metadata": {},
   "outputs": [
    {
     "name": "stdout",
     "output_type": "stream",
     "text": [
      "Hello Melly!\n"
     ]
    }
   ],
   "source": [
    "greet_user('Melly') # changed username value"
   ]
  },
  {
   "cell_type": "code",
   "execution_count": null,
   "metadata": {},
   "outputs": [
    {
     "name": "stdout",
     "output_type": "stream",
     "text": [
      "I have a Cat.\n",
      "My Cat's name is Missy.\n"
     ]
    }
   ],
   "source": [
    "def describe_pet(animal_type, pet_name):\n",
    "    \"\"\"Display information about a pet\"\"\"\n",
    "    print(f\"I have a {animal_type}.\")\n",
    "    print(f\"My {animal_type}'s name is {pet_name}.\")\n",
    "\n",
    "describe_pet('Cat', 'Missy')"
   ]
  },
  {
   "cell_type": "code",
   "execution_count": null,
   "metadata": {},
   "outputs": [
    {
     "name": "stdout",
     "output_type": "stream",
     "text": [
      "I have a Scooby.\n",
      "My Scooby's name is Dog.\n"
     ]
    }
   ],
   "source": [
    "describe_pet('Scooby', 'Dog') # this is wrong"
   ]
  },
  {
   "cell_type": "code",
   "execution_count": null,
   "metadata": {},
   "outputs": [],
   "source": [
    "def describe_pet(pet_name, animal_type = 'Dog'):\n",
    "    \"\"\"Display information about a pet\"\"\"\n",
    "    print(f\"I have a {animal_type}.\")\n",
    "    print(f\"My {animal_type}'s name is {pet_name}.\")"
   ]
  },
  {
   "cell_type": "code",
   "execution_count": null,
   "metadata": {},
   "outputs": [
    {
     "name": "stdout",
     "output_type": "stream",
     "text": [
      "I have a Dog.\n",
      "My Dog's name is Missy.\n"
     ]
    }
   ],
   "source": [
    "describe_pet('Missy')"
   ]
  },
  {
   "cell_type": "code",
   "execution_count": null,
   "metadata": {},
   "outputs": [
    {
     "name": "stdout",
     "output_type": "stream",
     "text": [
      "I have a Cow.\n",
      "My Cow's name is Hope.\n"
     ]
    }
   ],
   "source": [
    "describe_pet('Hope', 'Cow')"
   ]
  },
  {
   "cell_type": "code",
   "execution_count": null,
   "metadata": {},
   "outputs": [],
   "source": [
    "def send_greeting(user):\n",
    "    \"\"\"Welcome users to a wedding\"\"\"\n",
    "    message = f\"Welcome {user} to Nyambane and Ida's Wedding!\"\n",
    "\n",
    "send_greeting('Yusuf')"
   ]
  },
  {
   "cell_type": "code",
   "execution_count": null,
   "metadata": {},
   "outputs": [
    {
     "data": {
      "text/plain": [
       "\"Welcome Eugene to Nyambane and Ida's Wedding!\""
      ]
     },
     "execution_count": 38,
     "metadata": {},
     "output_type": "execute_result"
    }
   ],
   "source": [
    "def send_greeting(user):\n",
    "    \"\"\"Welcome users to a wedding\"\"\"\n",
    "    message = f\"Welcome {user} to Nyambane and Ida's Wedding!\"\n",
    "\n",
    "    return message\n",
    "\n",
    "send_greeting('Eugene')"
   ]
  },
  {
   "cell_type": "code",
   "execution_count": null,
   "metadata": {},
   "outputs": [
    {
     "name": "stdout",
     "output_type": "stream",
     "text": [
      "Welcome Kocheli to Nyambane and Ida's Wedding!\n"
     ]
    }
   ],
   "source": [
    "welcome_message = send_greeting('Kocheli')\n",
    "\n",
    "print(welcome_message)\n"
   ]
  },
  {
   "cell_type": "code",
   "execution_count": null,
   "metadata": {},
   "outputs": [
    {
     "name": "stdout",
     "output_type": "stream",
     "text": [
      "Enter maths values\n"
     ]
    }
   ],
   "source": [
    "def calculator(a, b, operator):\n",
    "    \"\"\"\"Simple arithematic operations\"\"\"\n",
    "    if (operator == \"+\"):\n",
    "        sum = a + b\n",
    "        sum_out = f\"{a} + {b} = {sum}\"\n",
    "        return sum_out\n",
    "    elif (operator == \"-\"):\n",
    "        diff = a - b\n",
    "        diff_out = f\"{a} - {b} = {diff}\"\n",
    "\n",
    "        return diff_out\n",
    "    elif (operator.strip() == \"*\"):\n",
    "            times = a * b\n",
    "            times_out = f\"{a} * {b} = {times}\"\n",
    "\n",
    "            return times_out\n",
    "    else:\n",
    "        print(\"Enter maths values\")\n",
    "\n",
    "calculator(8, 7, (\"&\"))"
   ]
  },
  {
   "cell_type": "code",
   "execution_count": null,
   "metadata": {},
   "outputs": [
    {
     "data": {
      "text/plain": [
       "'8 * 7 = 56'"
      ]
     },
     "execution_count": 62,
     "metadata": {},
     "output_type": "execute_result"
    }
   ],
   "source": [
    "calculator(8, 7, (\"*\"))"
   ]
  },
  {
   "cell_type": "code",
   "execution_count": null,
   "metadata": {},
   "outputs": [
    {
     "data": {
      "text/plain": [
       "(14, -8, 90)"
      ]
     },
     "execution_count": 71,
     "metadata": {},
     "output_type": "execute_result"
    }
   ],
   "source": [
    "def alt_calculator( a, b, c):\n",
    "    \"\"\"Alternative Calculator\"\"\"\n",
    "    sum = a + b + c\n",
    "    diff = a - b - c\n",
    "    multiplication = a * b * c\n",
    "\n",
    "    return sum, diff, multiplication\n",
    "\n",
    "alt_calculator( 3, 5, 6)"
   ]
  },
  {
   "cell_type": "code",
   "execution_count": null,
   "metadata": {},
   "outputs": [
    {
     "name": "stdout",
     "output_type": "stream",
     "text": [
      "<class 'tuple'>\n",
      "0\n"
     ]
    }
   ],
   "source": [
    "alt_calculator_output = alt_calculator(20, 10, 10)\n",
    "print(type(alt_calculator_output))\n",
    "difference = alt_calculator_output[1]\n",
    "\n",
    "print(difference)"
   ]
  },
  {
   "cell_type": "code",
   "execution_count": null,
   "metadata": {},
   "outputs": [
    {
     "name": "stdout",
     "output_type": "stream",
     "text": [
      "Sum of squares for [2, 3, 4, 5]: 54\n"
     ]
    }
   ],
   "source": [
    "def sum_square(numbers):\n",
    "    \"\"\"Calculate the sum of squares of a sequence of numbers.\"\"\"\n",
    "    total = sum(x ** 2 for x in numbers)\n",
    "    return total\n",
    "\n",
    "# Example usage\n",
    "numbers_list = [2, 3, 4, 5]\n",
    "result = sum_square(numbers_list)\n",
    "print(f\"Sum of squares for {numbers_list}: {result}\")\n"
   ]
  },
  {
   "cell_type": "code",
   "execution_count": null,
   "metadata": {},
   "outputs": [
    {
     "data": {
      "text/plain": [
       "29"
      ]
     },
     "execution_count": 85,
     "metadata": {},
     "output_type": "execute_result"
    }
   ],
   "source": [
    "def sum_squares(numbers):\n",
    "    \"\"\"\n",
    "    parameters:\n",
    "        numbers - list of numbers\n",
    "    return:\n",
    "        sum of the squares of the list numbers\n",
    "    \"\"\"\n",
    "    squared_numbers = []\n",
    "    for num in numbers:\n",
    "        squared_value = num ** 2\n",
    "        squared_numbers.append(squared_value)\n",
    "    squares_sum = sum(squared_numbers)\n",
    "\n",
    "    return squares_sum,squared_numbers\n",
    "\n",
    "sum_square([2, 3, 4])"
   ]
  },
  {
   "cell_type": "code",
   "execution_count": null,
   "metadata": {},
   "outputs": [
    {
     "name": "stdout",
     "output_type": "stream",
     "text": [
      "Njeru\n"
     ]
    }
   ],
   "source": [
    "first_name = input(\"Enter your name: \\n\")\n",
    "print(first_name)"
   ]
  },
  {
   "cell_type": "code",
   "execution_count": null,
   "metadata": {},
   "outputs": [
    {
     "name": "stdout",
     "output_type": "stream",
     "text": [
      "Karuoya\n"
     ]
    }
   ],
   "source": [
    "second_name = input(\"Enter your name: \\n\")\n",
    "print(second_name)"
   ]
  },
  {
   "cell_type": "code",
   "execution_count": null,
   "metadata": {},
   "outputs": [
    {
     "name": "stdout",
     "output_type": "stream",
     "text": [
      "first_name second_name\n"
     ]
    }
   ],
   "source": [
    "print(\"first_name\", \"second_name\")"
   ]
  },
  {
   "cell_type": "code",
   "execution_count": null,
   "metadata": {},
   "outputs": [
    {
     "data": {
      "text/plain": [
       "str"
      ]
     },
     "execution_count": 94,
     "metadata": {},
     "output_type": "execute_result"
    }
   ],
   "source": [
    "number = input(\"Enter a number: \\n\")\n",
    "type(number)"
   ]
  },
  {
   "cell_type": "code",
   "execution_count": null,
   "metadata": {},
   "outputs": [
    {
     "data": {
      "text/plain": [
       "int"
      ]
     },
     "execution_count": 99,
     "metadata": {},
     "output_type": "execute_result"
    }
   ],
   "source": [
    "number_2 = int(input(\"Enter number (0-9): \\n\"))\n",
    "\n",
    "type(number_2)"
   ]
  },
  {
   "cell_type": "code",
   "execution_count": null,
   "metadata": {},
   "outputs": [
    {
     "name": "stdout",
     "output_type": "stream",
     "text": [
      "91 is an odd number.\n"
     ]
    }
   ],
   "source": [
    "def number():\n",
    "    try:\n",
    "        number = int(input(\"Enter a number: \"))\n",
    "        parity = \"even\" if number % 2 == 0 else \"odd\"\n",
    "        print(f\"{number} is an {parity} number.\")\n",
    "    except ValueError:\n",
    "        print(\"Invalid input. Please enter a valid number.\")\n",
    "\n",
    "if __name__ == \"__main__\":\n",
    "    number()\n"
   ]
  },
  {
   "cell_type": "code",
   "execution_count": null,
   "metadata": {},
   "outputs": [
    {
     "name": "stdout",
     "output_type": "stream",
     "text": [
      "12 is an even number.\n"
     ]
    }
   ],
   "source": [
    "def number():\n",
    "    try:\n",
    "        number = int(input(\"Enter a number: \"))\n",
    "        if number % 2 == 0:\n",
    "            print(f\"{number} is an even number.\")\n",
    "        else:\n",
    "            print(f\"{number} is an odd number.\")\n",
    "    except ValueError:\n",
    "        print(\"Invalid input. Please enter a valid number.\")\n",
    "\n",
    "if __name__ == \"__main__\":\n",
    "    number()\n"
   ]
  },
  {
   "cell_type": "code",
   "execution_count": null,
   "metadata": {},
   "outputs": [
    {
     "name": "stdout",
     "output_type": "stream",
     "text": [
      "8 is an even number.\n"
     ]
    }
   ],
   "source": [
    "def check_even_odd(number):\n",
    "    if number % 2 == 0:\n",
    "        return \"even\"\n",
    "    else:\n",
    "        return \"odd\"\n",
    "\n",
    "try:\n",
    "    number = int(input(\"Enter a number: \"))\n",
    "    parity = check_even_odd(number)\n",
    "    print(f\"{number} is an {parity} number.\")\n",
    "except ValueError:\n",
    "    print(\"Invalid input. Please enter a valid number.\")\n",
    "\n"
   ]
  },
  {
   "cell_type": "code",
   "execution_count": null,
   "metadata": {},
   "outputs": [
    {
     "name": "stdout",
     "output_type": "stream",
     "text": [
      "90 is an even number.\n"
     ]
    }
   ],
   "source": [
    "def check_even_odd(number):\n",
    "    if number % 2 == 0:\n",
    "        return \"even\"\n",
    "    else:\n",
    "        return \"odd\"\n",
    "\n",
    "number = int(input(\"Enter a number: \"))\n",
    "parity = check_even_odd(number)\n",
    "print(f\"{number} is an {parity} number.\")\n",
    "\n",
    "\n"
   ]
  },
  {
   "cell_type": "code",
   "execution_count": null,
   "metadata": {},
   "outputs": [
    {
     "name": "stdout",
     "output_type": "stream",
     "text": [
      "Value is Odd\n"
     ]
    }
   ],
   "source": [
    "value = int(input(\"Enter your value: \\n\"))\n",
    "if value % 2 == 0:\n",
    "                print(\"Value is Even\")\n",
    "            \n",
    "else: \n",
    "                print(\"Value is Odd\")"
   ]
  },
  {
   "cell_type": "code",
   "execution_count": null,
   "metadata": {},
   "outputs": [
    {
     "name": "stdout",
     "output_type": "stream",
     "text": [
      "Even numbers:  [2, 4]\n",
      "Odd numbers:  [7, 5, 3]\n"
     ]
    }
   ],
   "source": [
    "def check_even_odd(values):\n",
    "    even_numbers = []\n",
    "    odd_numbers = []\n",
    "\n",
    "    for i in values:\n",
    "        if i % 2 == 0:\n",
    "            even_numbers.append(i)\n",
    "        else:\n",
    "            odd_numbers.append(i)\n",
    "    return even_numbers, odd_numbers\n",
    "\n",
    "values = [2, 4, 7, 5, 3]\n",
    "even_numbers, odd_numbers = check_even_odd(values)\n",
    "\n",
    "print(\"Even numbers: \", even_numbers)\n",
    "print(\"Odd numbers: \", odd_numbers)\n",
    "\n"
   ]
  },
  {
   "cell_type": "code",
   "execution_count": null,
   "metadata": {},
   "outputs": [],
   "source": [
    "def get_scores():\n",
    "    student_scores =[]\n",
    "    subjects =[\"Eng\", \"Kisw\", \"Math\",\"GHC\", \"CRE\"]\n",
    "    students = [\"Alex\", \"Mary\", \"Peter\"]\n",
    "    for subject in subjects:\n",
    "        score =int(input(f\"Enter {subject} score\"))\n",
    "        student_scores.append(score)\n",
    "\n",
    "    return student_scores\n"
   ]
  },
  {
   "cell_type": "code",
   "execution_count": null,
   "metadata": {},
   "outputs": [],
   "source": [
    "def get_grades():\n",
    "    student_scores = get_scores()\n",
    "    student_grade = []\n",
    "    for score in student_scores:\n",
    "        if score >= 80 and score <= 100:\n",
    "            grade =  \"A\"\n",
    "            student_grade.append(grade)\n",
    "        elif score >= 70 and score < 79:\n",
    "            grade =  \"B\"\n",
    "            student_grade.append(grade)\n",
    "        elif score >= 50 and score < 69:\n",
    "            grade = \"C\"\n",
    "            student_grade.append(grade)\n",
    "        elif score >= 40 and score < 49:\n",
    "            grade = \"D\"\n",
    "            student_grade.append(grade)\n",
    "        elif score < 40:\n",
    "            grade =  \"E\"\n",
    "            student_grade.append(grade)\n",
    "        else:\n",
    "            student_grade.append(None)\n",
    "    return student_scores, student_grade\n"
   ]
  },
  {
   "cell_type": "code",
   "execution_count": 1,
   "metadata": {},
   "outputs": [
    {
     "ename": "NameError",
     "evalue": "name 'get_grades' is not defined",
     "output_type": "error",
     "traceback": [
      "\u001b[1;31m---------------------------------------------------------------------------\u001b[0m",
      "\u001b[1;31mNameError\u001b[0m                                 Traceback (most recent call last)",
      "Cell \u001b[1;32mIn[1], line 1\u001b[0m\n\u001b[1;32m----> 1\u001b[0m get_grades()\n",
      "\u001b[1;31mNameError\u001b[0m: name 'get_grades' is not defined"
     ]
    }
   ],
   "source": [
    "get_grades()"
   ]
  },
  {
   "cell_type": "code",
   "execution_count": 2,
   "metadata": {},
   "outputs": [
    {
     "ename": "NameError",
     "evalue": "name 'get_grades' is not defined",
     "output_type": "error",
     "traceback": [
      "\u001b[1;31m---------------------------------------------------------------------------\u001b[0m",
      "\u001b[1;31mNameError\u001b[0m                                 Traceback (most recent call last)",
      "Cell \u001b[1;32mIn[2], line 11\u001b[0m\n\u001b[0;32m      6\u001b[0m     total \u001b[39m=\u001b[39m \u001b[39msum\u001b[39m(student_scores)\n\u001b[0;32m      8\u001b[0m     \u001b[39mreturn\u001b[39;00m total\n\u001b[1;32m---> 11\u001b[0m student_total()\n",
      "Cell \u001b[1;32mIn[2], line 5\u001b[0m, in \u001b[0;36mstudent_total\u001b[1;34m()\u001b[0m\n\u001b[0;32m      1\u001b[0m \u001b[39mdef\u001b[39;00m \u001b[39mstudent_total\u001b[39m():\n\u001b[0;32m      2\u001b[0m \u001b[39m    \u001b[39m\u001b[39m\"\"\" Get Totals scores\u001b[39;00m\n\u001b[0;32m      3\u001b[0m \u001b[39m    Reurns:\u001b[39;00m\n\u001b[0;32m      4\u001b[0m \u001b[39m    total student Score out of 500\"\"\"\u001b[39;00m\n\u001b[1;32m----> 5\u001b[0m     student_scores \u001b[39m=\u001b[39m get_grades()[\u001b[39m0\u001b[39m]\n\u001b[0;32m      6\u001b[0m     total \u001b[39m=\u001b[39m \u001b[39msum\u001b[39m(student_scores)\n\u001b[0;32m      8\u001b[0m     \u001b[39mreturn\u001b[39;00m total\n",
      "\u001b[1;31mNameError\u001b[0m: name 'get_grades' is not defined"
     ]
    }
   ],
   "source": [
    "def student_total():\n",
    "    \"\"\" Get Totals scores\n",
    "    Reurns:\n",
    "    total student Score out of 500\"\"\"\n",
    "    student_scores = get_grades()[0]\n",
    "    total = sum(student_scores)\n",
    "\n",
    "    return total\n",
    "\n",
    "\n",
    "student_total()\n",
    "\n",
    "\n",
    "    "
   ]
  },
  {
   "cell_type": "code",
   "execution_count": 110,
   "metadata": {},
   "outputs": [
    {
     "name": "stdout",
     "output_type": "stream",
     "text": [
      "Student Name: Alex\n",
      "Total Score: 388/500\n",
      "Grade: None\n"
     ]
    }
   ],
   "source": [
    "def get_scores(subjects):\n",
    "    student_scores = []\n",
    "    for subject in subjects:\n",
    "        score = int(input(f\"Enter {subject} score: \"))\n",
    "        student_scores.append(score)\n",
    "    return student_scores\n",
    "\n",
    "def calculate_grade(score):\n",
    "    if score >= 80 and score <= 100:\n",
    "        return \"A\"\n",
    "    elif score >= 70 and score < 80:\n",
    "        return \"B\"\n",
    "    elif score >= 50 and score < 70:\n",
    "        return \"C\"\n",
    "    elif score >= 40 and score < 50:\n",
    "        return \"D\"\n",
    "    elif score < 40:\n",
    "        return \"E\"\n",
    "    else:\n",
    "        return None\n",
    "\n",
    "def get_student_info():\n",
    "    student_name = input(\"Enter student name: \")\n",
    "    subjects = [\"Eng\", \"Kisw\", \"Math\", \"GHC\", \"CRE\"]\n",
    "    scores = get_scores(subjects)\n",
    "    total_score = sum(scores)\n",
    "    grade = calculate_grade(total_score)\n",
    "    return student_name, total_score, grade\n",
    "\n",
    "def main():\n",
    "    student_name, total_score, grade = get_student_info()\n",
    "    print(f\"Student Name: {student_name}\")\n",
    "    print(f\"Total Score: {total_score}/500\")\n",
    "    print(f\"Grade: {grade}\")\n",
    "\n",
    "if __name__ == \"__main__\":\n",
    "    main()\n"
   ]
  },
  {
   "cell_type": "code",
   "execution_count": 114,
   "metadata": {},
   "outputs": [
    {
     "name": "stdout",
     "output_type": "stream",
     "text": [
      "Student Name: Alex\n",
      "Total Score: 358/500\n",
      "Grade: None\n",
      "==============================\n",
      "Student Name: John\n",
      "Total Score: 237/500\n",
      "Grade: None\n",
      "==============================\n",
      "Student Name: Pato\n",
      "Total Score: 266/500\n",
      "Grade: None\n",
      "==============================\n"
     ]
    }
   ],
   "source": [
    "def get_scores(subjects):\n",
    "    student_scores = []\n",
    "    for subject in subjects:\n",
    "        score = int(input(f\"Enter {subject} score: \"))\n",
    "        student_scores.append(score)\n",
    "    return student_scores\n",
    "\n",
    "def calculate_grade(score):\n",
    "    if score >= 80 and score <= 100:\n",
    "        return \"A\"\n",
    "    elif score >= 70 and score < 80:\n",
    "        return \"B\"\n",
    "    elif score >= 50 and score < 70:\n",
    "        return \"C\"\n",
    "    elif score >= 40 and score < 50:\n",
    "        return \"D\"\n",
    "    elif score < 40:\n",
    "        return \"E\"\n",
    "    else:\n",
    "        return None\n",
    "\n",
    "def get_student_info():\n",
    "    student_name = input(\"Enter student name: \")\n",
    "    subjects = [\"Eng\", \"Kisw\", \"Math\", \"GHC\", \"CRE\"]\n",
    "    scores = get_scores(subjects)\n",
    "    total_score = sum(scores)\n",
    "    grade = calculate_grade(total_score)\n",
    "    return student_name, total_score, grade\n",
    "\n",
    "def main():\n",
    "    for _ in range(3):\n",
    "        student_name, total_score, grade = get_student_info()\n",
    "        print(f\"Student Name: {student_name}\")\n",
    "        print(f\"Total Score: {total_score}/500\")\n",
    "        print(f\"Grade: {grade}\")\n",
    "        print(\"=\" * 30)  # Adding a separator for clarity\n",
    "\n",
    "if __name__ == \"__main__\":\n",
    "    main()"
   ]
  },
  {
   "cell_type": "code",
   "execution_count": null,
   "metadata": {},
   "outputs": [],
   "source": [
    "student_number = 3\n",
    "class_perf = {}\n",
    "while student_number (<= 3):\n",
    "    Individual_student_performance = student_performance()\n",
    "    Individual_student = list(Individual_student)\n",
    "    class_performance\n",
    "    \n",
    "        student_number += 1"
   ]
  },
  {
   "cell_type": "code",
   "execution_count": null,
   "metadata": {},
   "outputs": [],
   "source": []
  },
  {
   "cell_type": "code",
   "execution_count": 113,
   "metadata": {},
   "outputs": [
    {
     "ename": "SyntaxError",
     "evalue": "invalid syntax (2913150368.py, line 2)",
     "output_type": "error",
     "traceback": [
      "\u001b[1;36m  Cell \u001b[1;32mIn[113], line 2\u001b[1;36m\u001b[0m\n\u001b[1;33m    while student_number (<= 3):\u001b[0m\n\u001b[1;37m                          ^\u001b[0m\n\u001b[1;31mSyntaxError\u001b[0m\u001b[1;31m:\u001b[0m invalid syntax\n"
     ]
    }
   ],
   "source": [
    "student_number = 3\n",
    "while student_number (<= 3):\n",
    "    student_performance()\n",
    "        student_number += 1"
   ]
  },
  {
   "cell_type": "code",
   "execution_count": 111,
   "metadata": {},
   "outputs": [
    {
     "name": "stdout",
     "output_type": "stream",
     "text": [
      "Student Name: Alex\n",
      "Subject Scores:\n",
      "Eng: 89 - Grade: A\n",
      "Kisw: 34 - Grade: E\n",
      "Math: 23 - Grade: E\n",
      "GHC: 12 - Grade: E\n",
      "CRE: 89 - Grade: A\n",
      "Total Score: 247/500\n"
     ]
    }
   ],
   "source": [
    "def calculate_grade(score):\n",
    "    if score >= 80 and score <= 100:\n",
    "        return \"A\"\n",
    "    elif score >= 70 and score < 80:\n",
    "        return \"B\"\n",
    "    elif score >= 50 and score < 70:\n",
    "        return \"C\"\n",
    "    elif score >= 40 and score < 50:\n",
    "        return \"D\"\n",
    "    elif score < 40:\n",
    "        return \"E\"\n",
    "    else:\n",
    "        return None\n",
    "\n",
    "def get_student_info():\n",
    "    student_name = input(\"Enter student name: \")\n",
    "    subjects = [\"Eng\", \"Kisw\", \"Math\", \"GHC\", \"CRE\"]\n",
    "    scores = get_scores(subjects)\n",
    "    total_score = sum(scores)\n",
    "    grades = [calculate_grade(score) for score in scores]\n",
    "    return student_name, subjects, scores, total_score, grades\n",
    "\n",
    "def main():\n",
    "    student_name, subjects, scores, total_score, grades = get_student_info()\n",
    "    print(f\"Student Name: {student_name}\")\n",
    "    print(\"Subject Scores:\")\n",
    "    for i in range(len(subjects)):\n",
    "        print(f\"{subjects[i]}: {scores[i]} - Grade: {grades[i]}\")\n",
    "    print(f\"Total Score: {total_score}/500\")\n",
    "\n",
    "if __name__ == \"__main__\":\n",
    "    main()\n"
   ]
  },
  {
   "cell_type": "code",
   "execution_count": 108,
   "metadata": {},
   "outputs": [
    {
     "ename": "NameError",
     "evalue": "name 'student_info' is not defined",
     "output_type": "error",
     "traceback": [
      "\u001b[1;31m---------------------------------------------------------------------------\u001b[0m",
      "\u001b[1;31mNameError\u001b[0m                                 Traceback (most recent call last)",
      "Cell \u001b[1;32mIn[108], line 15\u001b[0m\n\u001b[0;32m     12\u001b[0m     \u001b[39mreturn\u001b[39;00m \u001b[39mNone\u001b[39;00m\n\u001b[0;32m     14\u001b[0m student_name \u001b[39m=\u001b[39m \u001b[39m\"\u001b[39m\u001b[39mAlex\u001b[39m\u001b[39m\"\u001b[39m  \u001b[39m# Replace with the name of the student you're interested in\u001b[39;00m\n\u001b[1;32m---> 15\u001b[0m total_score \u001b[39m=\u001b[39m student_total(student_name)\n\u001b[0;32m     17\u001b[0m \u001b[39mif\u001b[39;00m total_score \u001b[39mis\u001b[39;00m \u001b[39mnot\u001b[39;00m \u001b[39mNone\u001b[39;00m:\n\u001b[0;32m     18\u001b[0m     \u001b[39mprint\u001b[39m(\u001b[39mf\u001b[39m\u001b[39m\"\u001b[39m\u001b[39mTotal score for \u001b[39m\u001b[39m{\u001b[39;00mstudent_name\u001b[39m}\u001b[39;00m\u001b[39m: \u001b[39m\u001b[39m{\u001b[39;00mtotal_score\u001b[39m}\u001b[39;00m\u001b[39m\"\u001b[39m)\n",
      "Cell \u001b[1;32mIn[108], line 8\u001b[0m, in \u001b[0;36mstudent_total\u001b[1;34m(student_name)\u001b[0m\n\u001b[0;32m      1\u001b[0m \u001b[39mdef\u001b[39;00m \u001b[39mstudent_total\u001b[39m(student_name):\n\u001b[0;32m      2\u001b[0m \u001b[39m    \u001b[39m\u001b[39m\"\"\" Get Total score for a specific student\u001b[39;00m\n\u001b[0;32m      3\u001b[0m \u001b[39m    Args:\u001b[39;00m\n\u001b[0;32m      4\u001b[0m \u001b[39m    student_name (str): Name of the student\u001b[39;00m\n\u001b[0;32m      5\u001b[0m \u001b[39m    Returns:\u001b[39;00m\n\u001b[0;32m      6\u001b[0m \u001b[39m    total student score\u001b[39;00m\n\u001b[0;32m      7\u001b[0m \u001b[39m    \"\"\"\u001b[39;00m\n\u001b[1;32m----> 8\u001b[0m     \u001b[39mfor\u001b[39;00m student \u001b[39min\u001b[39;00m student_info:\n\u001b[0;32m      9\u001b[0m         \u001b[39mif\u001b[39;00m student[\u001b[39m'\u001b[39m\u001b[39mname\u001b[39m\u001b[39m'\u001b[39m] \u001b[39m==\u001b[39m student_name:\n\u001b[0;32m     10\u001b[0m             total \u001b[39m=\u001b[39m \u001b[39msum\u001b[39m(student[\u001b[39m'\u001b[39m\u001b[39mscore\u001b[39m\u001b[39m'\u001b[39m]\u001b[39m.\u001b[39mvalues())\n",
      "\u001b[1;31mNameError\u001b[0m: name 'student_info' is not defined"
     ]
    }
   ],
   "source": [
    "def student_total(student_name):\n",
    "    \"\"\" Get Total score for a specific student\n",
    "    Args:\n",
    "    student_name (str): Name of the student\n",
    "    Returns:\n",
    "    total student score\n",
    "    \"\"\"\n",
    "    for student in student_info:\n",
    "        if student['name'] == student_name:\n",
    "            total = sum(student['score'].values())\n",
    "            return total\n",
    "    return None\n",
    "\n",
    "student_name = \"Alex\"  # Replace with the name of the student you're interested in\n",
    "total_score = student_total(student_name)\n",
    "\n",
    "if total_score is not None:\n",
    "    print(f\"Total score for {student_name}: {total_score}\")\n",
    "else:\n",
    "    print(f\"Student {student_name} not found.\")\n"
   ]
  },
  {
   "cell_type": "code",
   "execution_count": null,
   "metadata": {},
   "outputs": [
    {
     "name": "stdout",
     "output_type": "stream",
     "text": [
      "Enter scores for Alex:\n",
      "Enter scores for Mary:\n",
      "Enter scores for Peter:\n",
      "Alex scores: {'Eng': 90, 'Kisw': 98, 'Math': 56, 'GHC': 87, 'CRE': 67}\n",
      "Mary scores: {'Eng': 65, 'Kisw': 90, 'Math': 56, 'GHC': 56, 'CRE': 56}\n",
      "Peter scores: {'Eng': 67, 'Kisw': 56, 'Math': 45, 'GHC': 45, 'CRE': 34}\n"
     ]
    }
   ],
   "source": [
    "def get_scores():\n",
    "    student_scores = []\n",
    "    students = [\"Alex\", \"Mary\", \"Peter\"]\n",
    "    subjects = [\"Eng\", \"Kisw\", \"Math\", \"GHC\", \"CRE\"]\n",
    "\n",
    "    for student in students:\n",
    "        scores = {}\n",
    "        print(f\"Enter scores for {student}:\")\n",
    "        for subject in subjects:\n",
    "            score = int(input(f\"Enter {subject} score for {student}: \"))\n",
    "            scores[subject] = score\n",
    "        student_scores.append({\"name\": student, \"scores\": scores})\n",
    "\n",
    "    return student_scores\n",
    "\n",
    "scores = get_scores()\n",
    "for student in scores:\n",
    "    print(f\"{student['name']} scores:\", student['scores'])\n"
   ]
  },
  {
   "cell_type": "code",
   "execution_count": 109,
   "metadata": {},
   "outputs": [
    {
     "name": "stdout",
     "output_type": "stream",
     "text": [
      "Enter scores for Alex:\n",
      "Enter scores for Mary:\n",
      "Enter scores for Peter:\n",
      "Total performance of Alex: 365\n"
     ]
    }
   ],
   "source": [
    "def get_scores():\n",
    "    student_scores = []\n",
    "    students = [\"Alex\", \"Mary\", \"Peter\"]\n",
    "    subjects = [\"Eng\", \"Kisw\", \"Math\", \"GHC\", \"CRE\"]\n",
    "\n",
    "    for student in students:\n",
    "        scores = {}\n",
    "        print(f\"Enter scores for {student}:\")\n",
    "        for subject in subjects:\n",
    "            score = int(input(f\"Enter {subject} score for {student}: \"))\n",
    "            scores[subject] = score\n",
    "        student_scores.append({\"name\": student, \"scores\": scores})\n",
    "\n",
    "    return student_scores\n",
    "\n",
    "scores = get_scores()\n",
    "\n",
    "# Find the student's dictionary and calculate total performance\n",
    "student_name = \"Alex\"  # Replace with the name of the student you want to calculate for\n",
    "for student in scores:\n",
    "    if student['name'] == student_name:\n",
    "        total_score = sum(student['scores'].values())\n",
    "        print(f\"Total performance of {student_name}: {total_score}\")\n",
    "        break\n",
    "else:\n",
    "    print(f\"Student {student_name} not found.\")\n"
   ]
  }
 ],
 "metadata": {
  "kernelspec": {
   "display_name": "Python 3",
   "language": "python",
   "name": "python3"
  },
  "language_info": {
   "codemirror_mode": {
    "name": "ipython",
    "version": 3
   },
   "file_extension": ".py",
   "mimetype": "text/x-python",
   "name": "python",
   "nbconvert_exporter": "python",
   "pygments_lexer": "ipython3",
   "version": "3.11.4"
  },
  "orig_nbformat": 4
 },
 "nbformat": 4,
 "nbformat_minor": 2
}
