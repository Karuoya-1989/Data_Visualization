{
 "cells": [
  {
   "cell_type": "code",
   "execution_count": 11,
   "metadata": {},
   "outputs": [
    {
     "name": "stdout",
     "output_type": "stream",
     "text": [
      "Hello World\n"
     ]
    }
   ],
   "source": [
    "def greet():\n",
    "    print(\"Hello World\")\n",
    "greet()"
   ]
  },
  {
   "cell_type": "code",
   "execution_count": 17,
   "metadata": {},
   "outputs": [
    {
     "name": "stdout",
     "output_type": "stream",
     "text": [
      "Hello, Alex\n"
     ]
    }
   ],
   "source": [
    "def greet(name):\n",
    "    print(\"Hello, \" + name)\n",
    "greet(name)"
   ]
  },
  {
   "cell_type": "markdown",
   "metadata": {},
   "source": [
    "`def greet_user():` \n",
    "* Using the keyword `def` to inform python that you are defining a function, refered to as *function definition*. \n",
    "* Function definition tells python the name of the function, in the example above, **greet_user**.\n",
    "* It also informs python, if applicable, what kind of information the function needs to perform it's task/job, passed into to function using the `()`. In this case, the function need no information to perform its tasks hence the empty brackets.\n",
    "* Any indented lines"
   ]
  },
  {
   "cell_type": "code",
   "execution_count": 21,
   "metadata": {},
   "outputs": [
    {
     "name": "stdout",
     "output_type": "stream",
     "text": [
      "30\n"
     ]
    }
   ],
   "source": [
    "def sumation():\n",
    "    a = 10\n",
    "    b = 20\n",
    "    sum = a + b\n",
    "    print(sum)\n",
    "sumation()\n",
    "\n",
    "\n"
   ]
  },
  {
   "cell_type": "code",
   "execution_count": 20,
   "metadata": {},
   "outputs": [
    {
     "name": "stdout",
     "output_type": "stream",
     "text": [
      "30\n"
     ]
    }
   ],
   "source": [
    "def sumation():\n",
    "    a = 10\n",
    "    b = 20\n",
    "    sum = a + b\n",
    "    print(sum)\n",
    "\n",
    "# Calling the function to calculate and display the sum\n",
    "sumation()\n"
   ]
  },
  {
   "cell_type": "markdown",
   "metadata": {},
   "source": [
    "* By adding `username` in our function definition, we are allowing the function to accept any value for *username*.\n",
    "* Expectations: - provide a value for a *username* each time call it."
   ]
  },
  {
   "cell_type": "code",
   "execution_count": 24,
   "metadata": {},
   "outputs": [
    {
     "ename": "NameError",
     "evalue": "name 'greet_user' is not defined",
     "output_type": "error",
     "traceback": [
      "\u001b[1;31m---------------------------------------------------------------------------\u001b[0m",
      "\u001b[1;31mNameError\u001b[0m                                 Traceback (most recent call last)",
      "Cell \u001b[1;32mIn[24], line 1\u001b[0m\n\u001b[1;32m----> 1\u001b[0m greet_user(\u001b[39m\"\u001b[39m\u001b[39mAlex\u001b[39m\u001b[39m\"\u001b[39m)\n",
      "\u001b[1;31mNameError\u001b[0m: name 'greet_user' is not defined"
     ]
    }
   ],
   "source": [
    "greet_user(\"Alex\")"
   ]
  },
  {
   "cell_type": "markdown",
   "metadata": {},
   "source": [
    "* When you call a function, Python must match each argument in the function call with a parameter in the function definition."
   ]
  },
  {
   "cell_type": "code",
   "execution_count": 3,
   "metadata": {},
   "outputs": [
    {
     "name": "stdout",
     "output_type": "stream",
     "text": [
      "The Zen of Python, by Tim Peters\n",
      "\n",
      "Beautiful is better than ugly.\n",
      "Explicit is better than implicit.\n",
      "Simple is better than complex.\n",
      "Complex is better than complicated.\n",
      "Flat is better than nested.\n",
      "Sparse is better than dense.\n",
      "Readability counts.\n",
      "Special cases aren't special enough to break the rules.\n",
      "Although practicality beats purity.\n",
      "Errors should never pass silently.\n",
      "Unless explicitly silenced.\n",
      "In the face of ambiguity, refuse the temptation to guess.\n",
      "There should be one-- and preferably only one --obvious way to do it.\n",
      "Although that way may not be obvious at first unless you're Dutch.\n",
      "Now is better than never.\n",
      "Although never is often better than *right* now.\n",
      "If the implementation is hard to explain, it's a bad idea.\n",
      "If the implementation is easy to explain, it may be a good idea.\n",
      "Namespaces are one honking great idea -- let's do more of those!\n"
     ]
    }
   ],
   "source": [
    "import this"
   ]
  },
  {
   "cell_type": "code",
   "execution_count": 25,
   "metadata": {},
   "outputs": [
    {
     "name": "stdout",
     "output_type": "stream",
     "text": [
      "Hello!\n"
     ]
    }
   ],
   "source": [
    "def greet_user():\n",
    "    \"\"\"Display a simple greeting\"\"\"\n",
    "    print(\"Hello!\")\n",
    "\n",
    "greet_user()"
   ]
  },
  {
   "cell_type": "code",
   "execution_count": 26,
   "metadata": {},
   "outputs": [
    {
     "name": "stdout",
     "output_type": "stream",
     "text": [
      "Hello Antonny!\n"
     ]
    }
   ],
   "source": [
    "def greet_user(username):\n",
    "    \"\"\"Display a simple greeting\"\"\"\n",
    "    print(f\"Hello {username}!\")\n",
    "\n",
    "greet_user('Antonny')"
   ]
  },
  {
   "cell_type": "code",
   "execution_count": 27,
   "metadata": {},
   "outputs": [
    {
     "name": "stdout",
     "output_type": "stream",
     "text": [
      "Hello Melly!\n"
     ]
    }
   ],
   "source": [
    "greet_user('Melly') # changed username value"
   ]
  },
  {
   "cell_type": "code",
   "execution_count": 28,
   "metadata": {},
   "outputs": [
    {
     "name": "stdout",
     "output_type": "stream",
     "text": [
      "I have a Cat.\n",
      "My Cat's name is Missy.\n"
     ]
    }
   ],
   "source": [
    "def describe_pet(animal_type, pet_name):\n",
    "    \"\"\"Display information about a pet\"\"\"\n",
    "    print(f\"I have a {animal_type}.\")\n",
    "    print(f\"My {animal_type}'s name is {pet_name}.\")\n",
    "\n",
    "describe_pet('Cat', 'Missy')"
   ]
  },
  {
   "cell_type": "code",
   "execution_count": 29,
   "metadata": {},
   "outputs": [
    {
     "name": "stdout",
     "output_type": "stream",
     "text": [
      "I have a Scooby.\n",
      "My Scooby's name is Dog.\n"
     ]
    }
   ],
   "source": [
    "describe_pet('Scooby', 'Dog') # this is wrong"
   ]
  },
  {
   "cell_type": "code",
   "execution_count": 31,
   "metadata": {},
   "outputs": [],
   "source": [
    "def describe_pet(pet_name, animal_type = 'Dog'):\n",
    "    \"\"\"Display information about a pet\"\"\"\n",
    "    print(f\"I have a {animal_type}.\")\n",
    "    print(f\"My {animal_type}'s name is {pet_name}.\")"
   ]
  },
  {
   "cell_type": "code",
   "execution_count": 32,
   "metadata": {},
   "outputs": [
    {
     "name": "stdout",
     "output_type": "stream",
     "text": [
      "I have a Dog.\n",
      "My Dog's name is Missy.\n"
     ]
    }
   ],
   "source": [
    "describe_pet('Missy')"
   ]
  },
  {
   "cell_type": "code",
   "execution_count": 33,
   "metadata": {},
   "outputs": [
    {
     "name": "stdout",
     "output_type": "stream",
     "text": [
      "I have a Cow.\n",
      "My Cow's name is Hope.\n"
     ]
    }
   ],
   "source": [
    "describe_pet('Hope', 'Cow')"
   ]
  },
  {
   "cell_type": "code",
   "execution_count": 35,
   "metadata": {},
   "outputs": [],
   "source": [
    "def send_greeting(user):\n",
    "    \"\"\"Welcome users to a wedding\"\"\"\n",
    "    message = f\"Welcome {user} to Nyambane and Ida's Wedding!\"\n",
    "\n",
    "send_greeting('Yusuf')"
   ]
  },
  {
   "cell_type": "code",
   "execution_count": 38,
   "metadata": {},
   "outputs": [
    {
     "data": {
      "text/plain": [
       "\"Welcome Eugene to Nyambane and Ida's Wedding!\""
      ]
     },
     "execution_count": 38,
     "metadata": {},
     "output_type": "execute_result"
    }
   ],
   "source": [
    "def send_greeting(user):\n",
    "    \"\"\"Welcome users to a wedding\"\"\"\n",
    "    message = f\"Welcome {user} to Nyambane and Ida's Wedding!\"\n",
    "\n",
    "    return message\n",
    "\n",
    "send_greeting('Eugene')"
   ]
  },
  {
   "cell_type": "code",
   "execution_count": 39,
   "metadata": {},
   "outputs": [
    {
     "name": "stdout",
     "output_type": "stream",
     "text": [
      "Welcome Kocheli to Nyambane and Ida's Wedding!\n"
     ]
    }
   ],
   "source": [
    "welcome_message = send_greeting('Kocheli')\n",
    "\n",
    "print(welcome_message)\n"
   ]
  },
  {
   "cell_type": "code",
   "execution_count": 60,
   "metadata": {},
   "outputs": [
    {
     "name": "stdout",
     "output_type": "stream",
     "text": [
      "Enter maths values\n"
     ]
    }
   ],
   "source": [
    "def calculator(a, b, operator):\n",
    "    \"\"\"\"Simple arithematic operations\"\"\"\n",
    "    if (operator == \"+\"):\n",
    "        sum = a + b\n",
    "        sum_out = f\"{a} + {b} = {sum}\"\n",
    "        return sum_out\n",
    "    elif (operator == \"-\"):\n",
    "        diff = a - b\n",
    "        diff_out = f\"{a} - {b} = {diff}\"\n",
    "\n",
    "        return diff_out\n",
    "    elif (operator.strip() == \"*\"):\n",
    "            times = a * b\n",
    "            times_out = f\"{a} * {b} = {times}\"\n",
    "\n",
    "            return times_out\n",
    "    else:\n",
    "        print(\"Enter maths values\")\n",
    "\n",
    "calculator(8, 7, (\"&\"))"
   ]
  },
  {
   "cell_type": "code",
   "execution_count": 62,
   "metadata": {},
   "outputs": [
    {
     "data": {
      "text/plain": [
       "'8 * 7 = 56'"
      ]
     },
     "execution_count": 62,
     "metadata": {},
     "output_type": "execute_result"
    }
   ],
   "source": [
    "calculator(8, 7, (\"*\"))"
   ]
  },
  {
   "cell_type": "code",
   "execution_count": 71,
   "metadata": {},
   "outputs": [
    {
     "data": {
      "text/plain": [
       "(14, -8, 90)"
      ]
     },
     "execution_count": 71,
     "metadata": {},
     "output_type": "execute_result"
    }
   ],
   "source": [
    "def alt_calculator( a, b, c):\n",
    "    \"\"\"Alternative Calculator\"\"\"\n",
    "    sum = a + b + c\n",
    "    diff = a - b - c\n",
    "    multiplication = a * b * c\n",
    "\n",
    "    return sum, diff, multiplication\n",
    "\n",
    "alt_calculator( 3, 5, 6)"
   ]
  },
  {
   "cell_type": "code",
   "execution_count": 74,
   "metadata": {},
   "outputs": [
    {
     "name": "stdout",
     "output_type": "stream",
     "text": [
      "<class 'tuple'>\n",
      "0\n"
     ]
    }
   ],
   "source": [
    "alt_calculator_output = alt_calculator(20, 10, 10)\n",
    "print(type(alt_calculator_output))\n",
    "difference = alt_calculator_output[1]\n",
    "\n",
    "print(difference)"
   ]
  },
  {
   "cell_type": "code",
   "execution_count": 79,
   "metadata": {},
   "outputs": [
    {
     "name": "stdout",
     "output_type": "stream",
     "text": [
      "Sum of squares for [2, 3, 4, 5]: 54\n"
     ]
    }
   ],
   "source": [
    "def sum_square(numbers):\n",
    "    \"\"\"Calculate the sum of squares of a sequence of numbers.\"\"\"\n",
    "    total = sum(x ** 2 for x in numbers)\n",
    "    return total\n",
    "\n",
    "# Example usage\n",
    "numbers_list = [2, 3, 4, 5]\n",
    "result = sum_square(numbers_list)\n",
    "print(f\"Sum of squares for {numbers_list}: {result}\")\n"
   ]
  },
  {
   "cell_type": "code",
   "execution_count": 85,
   "metadata": {},
   "outputs": [
    {
     "data": {
      "text/plain": [
       "29"
      ]
     },
     "execution_count": 85,
     "metadata": {},
     "output_type": "execute_result"
    }
   ],
   "source": [
    "def sum_squares(numbers):\n",
    "    \"\"\"\n",
    "    parameters:\n",
    "        numbers - list of numbers\n",
    "    return:\n",
    "        sum of the squares of the list numbers\n",
    "    \"\"\"\n",
    "    squared_numbers = []\n",
    "    for num in numbers:\n",
    "        squared_value = num ** 2\n",
    "        squared_numbers.append(squared_value)\n",
    "    squares_sum = sum(squared_numbers)\n",
    "\n",
    "    return squares_sum,squared_numbers\n",
    "\n",
    "sum_square([2, 3, 4])"
   ]
  },
  {
   "cell_type": "code",
   "execution_count": 86,
   "metadata": {},
   "outputs": [
    {
     "name": "stdout",
     "output_type": "stream",
     "text": [
      "Njeru\n"
     ]
    }
   ],
   "source": [
    "first_name = input(\"Enter your name: \\n\")\n",
    "print(first_name)"
   ]
  },
  {
   "cell_type": "code",
   "execution_count": 91,
   "metadata": {},
   "outputs": [
    {
     "name": "stdout",
     "output_type": "stream",
     "text": [
      "Karuoya\n"
     ]
    }
   ],
   "source": [
    "second_name = input(\"Enter your name: \\n\")\n",
    "print(second_name)"
   ]
  },
  {
   "cell_type": "code",
   "execution_count": 93,
   "metadata": {},
   "outputs": [
    {
     "name": "stdout",
     "output_type": "stream",
     "text": [
      "first_name second_name\n"
     ]
    }
   ],
   "source": [
    "print(\"first_name\", \"second_name\")"
   ]
  },
  {
   "cell_type": "code",
   "execution_count": 94,
   "metadata": {},
   "outputs": [
    {
     "data": {
      "text/plain": [
       "str"
      ]
     },
     "execution_count": 94,
     "metadata": {},
     "output_type": "execute_result"
    }
   ],
   "source": [
    "number = input(\"Enter a number: \\n\")\n",
    "type(number)"
   ]
  },
  {
   "cell_type": "code",
   "execution_count": 99,
   "metadata": {},
   "outputs": [
    {
     "data": {
      "text/plain": [
       "int"
      ]
     },
     "execution_count": 99,
     "metadata": {},
     "output_type": "execute_result"
    }
   ],
   "source": [
    "number_2 = int(input(\"Enter number (0-9): \\n\"))\n",
    "\n",
    "type(number_2)"
   ]
  },
  {
   "cell_type": "code",
   "execution_count": 1,
   "metadata": {},
   "outputs": [
    {
     "name": "stdout",
     "output_type": "stream",
     "text": [
      "91 is an odd number.\n"
     ]
    }
   ],
   "source": [
    "def number():\n",
    "    try:\n",
    "        number = int(input(\"Enter a number: \"))\n",
    "        parity = \"even\" if number % 2 == 0 else \"odd\"\n",
    "        print(f\"{number} is an {parity} number.\")\n",
    "    except ValueError:\n",
    "        print(\"Invalid input. Please enter a valid number.\")\n",
    "\n",
    "if __name__ == \"__main__\":\n",
    "    number()\n"
   ]
  },
  {
   "cell_type": "code",
   "execution_count": 103,
   "metadata": {},
   "outputs": [
    {
     "name": "stdout",
     "output_type": "stream",
     "text": [
      "12 is an even number.\n"
     ]
    }
   ],
   "source": [
    "def number():\n",
    "    try:\n",
    "        number = int(input(\"Enter a number: \"))\n",
    "        if number % 2 == 0:\n",
    "            print(f\"{number} is an even number.\")\n",
    "        else:\n",
    "            print(f\"{number} is an odd number.\")\n",
    "    except ValueError:\n",
    "        print(\"Invalid input. Please enter a valid number.\")\n",
    "\n",
    "if __name__ == \"__main__\":\n",
    "    number()\n"
   ]
  },
  {
   "cell_type": "code",
   "execution_count": 6,
   "metadata": {},
   "outputs": [
    {
     "name": "stdout",
     "output_type": "stream",
     "text": [
      "8 is an even number.\n"
     ]
    }
   ],
   "source": [
    "def check_even_odd(number):\n",
    "    if number % 2 == 0:\n",
    "        return \"even\"\n",
    "    else:\n",
    "        return \"odd\"\n",
    "\n",
    "try:\n",
    "    number = int(input(\"Enter a number: \"))\n",
    "    parity = check_even_odd(number)\n",
    "    print(f\"{number} is an {parity} number.\")\n",
    "except ValueError:\n",
    "    print(\"Invalid input. Please enter a valid number.\")\n",
    "\n"
   ]
  },
  {
   "cell_type": "code",
   "execution_count": 10,
   "metadata": {},
   "outputs": [
    {
     "name": "stdout",
     "output_type": "stream",
     "text": [
      "90 is an even number.\n"
     ]
    }
   ],
   "source": [
    "def check_even_odd(number):\n",
    "    if number % 2 == 0:\n",
    "        return \"even\"\n",
    "    else:\n",
    "        return \"odd\"\n",
    "\n",
    "number = int(input(\"Enter a number: \"))\n",
    "parity = check_even_odd(number)\n",
    "print(f\"{number} is an {parity} number.\")\n",
    "\n",
    "\n"
   ]
  },
  {
   "cell_type": "code",
   "execution_count": 105,
   "metadata": {},
   "outputs": [
    {
     "name": "stdout",
     "output_type": "stream",
     "text": [
      "Value is Odd\n"
     ]
    }
   ],
   "source": [
    "value = int(input(\"Enter your value: \\n\"))\n",
    "if value % 2 == 0:\n",
    "                print(\"Value is Even\")\n",
    "            \n",
    "else: \n",
    "                print(\"Value is Odd\")"
   ]
  },
  {
   "cell_type": "code",
   "execution_count": 29,
   "metadata": {},
   "outputs": [
    {
     "name": "stdout",
     "output_type": "stream",
     "text": [
      "Even numbers:  [2, 4]\n",
      "Odd numbers:  [7, 5, 3]\n"
     ]
    }
   ],
   "source": [
    "def check_even_odd(values):\n",
    "    even_numbers = []\n",
    "    odd_numbers = []\n",
    "\n",
    "    for i in values:\n",
    "        if i % 2 == 0:\n",
    "            even_numbers.append(i)\n",
    "        else:\n",
    "            odd_numbers.append(i)\n",
    "    return even_numbers, odd_numbers\n",
    "\n",
    "values = [2, 4, 7, 5, 3]\n",
    "even_numbers, odd_numbers = check_even_odd(values)\n",
    "\n",
    "print(\"Even numbers: \", even_numbers)\n",
    "print(\"Odd numbers: \", odd_numbers)\n",
    "\n"
   ]
  },
  {
   "cell_type": "code",
   "execution_count": null,
   "metadata": {},
   "outputs": [],
   "source": []
  }
 ],
 "metadata": {
  "kernelspec": {
   "display_name": "Python 3",
   "language": "python",
   "name": "python3"
  },
  "language_info": {
   "codemirror_mode": {
    "name": "ipython",
    "version": 3
   },
   "file_extension": ".py",
   "mimetype": "text/x-python",
   "name": "python",
   "nbconvert_exporter": "python",
   "pygments_lexer": "ipython3",
   "version": "3.11.4"
  },
  "orig_nbformat": 4
 },
 "nbformat": 4,
 "nbformat_minor": 2
}
