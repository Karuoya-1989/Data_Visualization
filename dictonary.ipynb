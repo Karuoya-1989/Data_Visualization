{
 "cells": [
  {
   "cell_type": "markdown",
   "metadata": {},
   "source": [
    "# Dictonary\n",
    "* Data type that stores data using ``Key Value`` pairs.\n",
    "* Use curl brackets(```{}```) to define dictonary in Python\n",
    "* Syntax\n",
    "``key : value``"
   ]
  },
  {
   "cell_type": "code",
   "execution_count": 3,
   "metadata": {},
   "outputs": [
    {
     "data": {
      "text/plain": [
       "{'Name': 'Nyeri', 'Level': 'Magistrate', 'Caseload': 2000, 'ID': 2006}"
      ]
     },
     "execution_count": 3,
     "metadata": {},
     "output_type": "execute_result"
    }
   ],
   "source": [
    "# example\n",
    "Court = {\n",
    "    \"Name\" : \"Nyeri\",\n",
    "    \"Level\" : \"Magistrate\",\n",
    "    \"Caseload\" : 2000,\n",
    "    \"ID\" : 2006,\n",
    "}\n",
    "Court"
   ]
  },
  {
   "cell_type": "code",
   "execution_count": 3,
   "metadata": {},
   "outputs": [
    {
     "data": {
      "text/plain": [
       "{'Name': 'Alex', 'gender': 'male', 'County': 'Kirinyaga', 'ID': 26449622}"
      ]
     },
     "execution_count": 3,
     "metadata": {},
     "output_type": "execute_result"
    }
   ],
   "source": [
    "Name  = {\n",
    "    \"Name\" : \"Alex\",\n",
    "    \"gender\" : \"male\",\n",
    "    \"County\" : \"Kirinyaga\",\n",
    "    \"ID\" : 26449622\n",
    "}\n",
    "Name"
   ]
  },
  {
   "cell_type": "code",
   "execution_count": 10,
   "metadata": {},
   "outputs": [
    {
     "name": "stdout",
     "output_type": "stream",
     "text": [
      "{'sky': ['Nyambane', 'Eugene', 'Yusuf'], 'friends of the sky': ['Martin', 'Joseph', 'Victor', 'Alex'], 'Kitchen cabinet': ['Maggy', 'Eva', 'Linda'], 'office keepers': ['Kocheli', 'Alex', 'Ngobiro', 'John']}\n"
     ]
    }
   ],
   "source": [
    "Office = {\n",
    "    \"sky\" : [\"Nyambane\", \"Eugene\", \"Yusuf\"],\n",
    "    \"friends of the sky\" : [\"Martin\", \"Joseph\", \"Victor\", \"Alex\"],\n",
    "    \"Kitchen cabinet\" :[ \"Maggy\", \"Eva\", \"Linda\"],\n",
    "    \"office keepers\" : [\"Kocheli\",\"Alex\",\"Ngobiro\", \"John\"],\n",
    "}\n",
    "print(Office)"
   ]
  },
  {
   "cell_type": "code",
   "execution_count": 11,
   "metadata": {},
   "outputs": [
    {
     "data": {
      "text/plain": [
       "dict_keys(['sky', 'friends of the sky', 'Kitchen cabinet', 'office keepers'])"
      ]
     },
     "execution_count": 11,
     "metadata": {},
     "output_type": "execute_result"
    }
   ],
   "source": [
    "# keys of the dictonary\n",
    "Office.keys()"
   ]
  },
  {
   "cell_type": "code",
   "execution_count": 17,
   "metadata": {},
   "outputs": [
    {
     "name": "stdout",
     "output_type": "stream",
     "text": [
      "['Martin', 'Joseph', 'Victor', 'Alex']\n"
     ]
    }
   ],
   "source": [
    "# Access values in dict using keys\n",
    "# sytax  dict_name[key]\n",
    "print(Office['friends of the sky'])"
   ]
  },
  {
   "cell_type": "code",
   "execution_count": 18,
   "metadata": {},
   "outputs": [
    {
     "data": {
      "text/plain": [
       "['Nyambane', 'Eugene', 'Yusuf']"
      ]
     },
     "execution_count": 18,
     "metadata": {},
     "output_type": "execute_result"
    }
   ],
   "source": [
    "Office['sky']"
   ]
  },
  {
   "cell_type": "code",
   "execution_count": 25,
   "metadata": {},
   "outputs": [
    {
     "name": "stdout",
     "output_type": "stream",
     "text": [
      "{'sky': ['Nyambane', 'Eugene', 'Yusuf', 'Kirui', 'Kirui', 'Kirui', 'Kirui'], 'friends of the sky': ['Martin', 'Joseph', 'Victor', 'Alex'], 'Kitchen cabinet': ['Maggy', 'Eva', 'Linda'], 'office keepers': ['Kocheli', 'Alex', 'Ngobiro', 'John']}\n"
     ]
    }
   ],
   "source": [
    "Office[\"sky\"].append(\"Kirui\")\n",
    "print(Office)"
   ]
  },
  {
   "cell_type": "code",
   "execution_count": 28,
   "metadata": {},
   "outputs": [
    {
     "name": "stdout",
     "output_type": "stream",
     "text": [
      "{'sky': ['Nyambane', 'Eugene', 'Yusuf', 'Kirui'], 'friends of the sky': ['Martin', 'Joseph', 'Victor', 'Alex'], 'Kitchen cabinet': ['Maggy', 'Eva', 'Linda'], 'office keepers': ['Kocheli', 'Alex', 'Ngobiro', 'John']}\n"
     ]
    }
   ],
   "source": [
    "Office[\"sky\"].remove(\"Kirui\")\n",
    "print(Office)"
   ]
  },
  {
   "cell_type": "code",
   "execution_count": 37,
   "metadata": {},
   "outputs": [
    {
     "name": "stdout",
     "output_type": "stream",
     "text": [
      "ALEX\n"
     ]
    }
   ],
   "source": [
    "print(Office[\"office keepers\"][1].upper())"
   ]
  },
  {
   "cell_type": "code",
   "execution_count": null,
   "metadata": {},
   "outputs": [],
   "source": [
    "menu ={\"Breakfast\" :{\n",
    "        \"Beverage\": {\n",
    "            \"Tea\" : [\"Black\", \"White\", \"Ginger\", \"Cramel\"]\n",
    "            \"Coffee\": [\"Black\",\"White\", \"Mocca\"]\n",
    "            \"Cocoa\" : [\"Hot\", \"White\"]\n",
    "        }.\n",
    "        \"Meal\" : {\n",
    "            \"Wings\" : [\"hot\",[\"spicy\"],\"lemon\"]\n",
    "            \"Chicken\" : [\"Kienyeji\", \"Broiler\"]\n",
    "        }.\n",
    "        \"Refreshment\" :{\n",
    "            \"Snack\" : [\"Bites\", \"Mint\", \"popcorn\"]\n",
    "            \"Juce\"  : [\"passion\",\"Orange\", \"Tropical\"]\n",
    "        }\n",
    "\n",
    "})"
   ]
  },
  {
   "cell_type": "code",
   "execution_count": 49,
   "metadata": {},
   "outputs": [
    {
     "name": "stdout",
     "output_type": "stream",
     "text": [
      "{'Breakfast': {'Beverage': {'Tea': ['Black', 'White', 'Ginger', 'Cramel'], 'Coffee': ['Black', 'White', 'Mocca'], 'Cocoa': ['Hot', 'White']}, 'Meal': {'Wings': ['hot', ['spicy'], 'lemon'], 'Chicken': ['Kienyeji', 'Broiler']}, 'Refreshment': {'Snack': ['Bites', 'Mint', 'popcorn'], 'Juice': ['passion', 'Orange', 'Tropical']}}}\n"
     ]
    }
   ],
   "source": [
    "menu = {\n",
    "    \"Breakfast\" : {\n",
    "        \"Beverage\": {\n",
    "            \"Tea\" : [ \"Black\", \"White\", \"Ginger\", \"Cramel\"],\n",
    "            \"Coffee\": [\"Black\",\"White\", \"Mocca\"],\n",
    "            \"Cocoa\" : [\"Hot\", \"White\"],\n",
    "        },\n",
    "        \"Meal\" : {\n",
    "            \"Wings\" : [\"hot\",[\"spicy\"],\"lemon\"],\n",
    "            \"Chicken\" : [\"Kienyeji\", \"Broiler\"],\n",
    "        },\n",
    "        \"Refreshment\" :{\n",
    "            \"Snack\" : [\"Bites\", \"Mint\", \"popcorn\"],\n",
    "            \"Juice\"  : [\"passion\",\"Orange\", \"Tropical\"],\n",
    "        }\n",
    "    }\n",
    "}\n",
    "print(menu)"
   ]
  },
  {
   "cell_type": "code",
   "execution_count": 48,
   "metadata": {},
   "outputs": [
    {
     "name": "stdout",
     "output_type": "stream",
     "text": [
      "{'Beverage': {'Tea': ['Black', 'White', 'Ginger', 'Cramel'], 'Coffee': ['Black', 'White', 'Mocca'], 'Cocoa': ['Hot', 'White']}, 'Meal': {'Wings': ['hot', ['spicy'], 'lemon'], 'Chicken': ['Kienyeji', 'Broiler']}, 'Refreshment': {'Snack': ['Bites', 'Mint', 'popcorn'], 'Juce': ['passion', 'Orange', 'Tropical']}}\n"
     ]
    }
   ],
   "source": [
    "print(menu[\"Breakfast\"])\n"
   ]
  },
  {
   "cell_type": "code",
   "execution_count": 50,
   "metadata": {},
   "outputs": [
    {
     "data": {
      "text/plain": [
       "dict"
      ]
     },
     "execution_count": 50,
     "metadata": {},
     "output_type": "execute_result"
    }
   ],
   "source": [
    "type(menu[\"Breakfast\"])"
   ]
  },
  {
   "cell_type": "code",
   "execution_count": 51,
   "metadata": {},
   "outputs": [
    {
     "data": {
      "text/plain": [
       "dict_keys(['Beverage', 'Meal', 'Refreshment'])"
      ]
     },
     "execution_count": 51,
     "metadata": {},
     "output_type": "execute_result"
    }
   ],
   "source": [
    "menu[\"Breakfast\"].keys()"
   ]
  },
  {
   "cell_type": "code",
   "execution_count": 53,
   "metadata": {},
   "outputs": [
    {
     "data": {
      "text/plain": [
       "{'Tea': ['Black', 'White', 'Ginger', 'Cramel'],\n",
       " 'Coffee': ['Black', 'White', 'Mocca'],\n",
       " 'Cocoa': ['Hot', 'White']}"
      ]
     },
     "execution_count": 53,
     "metadata": {},
     "output_type": "execute_result"
    }
   ],
   "source": [
    "(menu[\"Breakfast\"][\"Beverage\"])"
   ]
  },
  {
   "cell_type": "code",
   "execution_count": 55,
   "metadata": {},
   "outputs": [
    {
     "data": {
      "text/plain": [
       "['Black', 'White', 'Mocca']"
      ]
     },
     "execution_count": 55,
     "metadata": {},
     "output_type": "execute_result"
    }
   ],
   "source": [
    "(menu[\"Breakfast\"][\"Beverage\"][\"Coffee\"])"
   ]
  },
  {
   "cell_type": "code",
   "execution_count": 56,
   "metadata": {},
   "outputs": [
    {
     "data": {
      "text/plain": [
       "'Mocca'"
      ]
     },
     "execution_count": 56,
     "metadata": {},
     "output_type": "execute_result"
    }
   ],
   "source": [
    "(menu[\"Breakfast\"][\"Beverage\"][\"Coffee\"][2])"
   ]
  },
  {
   "cell_type": "code",
   "execution_count": 65,
   "metadata": {},
   "outputs": [
    {
     "name": "stdout",
     "output_type": "stream",
     "text": [
      "Alex wants to have: \n",
      " \t* Mocca\n"
     ]
    }
   ],
   "source": [
    "print(f'Alex wants to have: \\n \\t* {menu[\"Breakfast\"][\"Beverage\"][\"Coffee\"][2]}')"
   ]
  }
 ],
 "metadata": {
  "kernelspec": {
   "display_name": "Python 3",
   "language": "python",
   "name": "python3"
  },
  "language_info": {
   "codemirror_mode": {
    "name": "ipython",
    "version": 3
   },
   "file_extension": ".py",
   "mimetype": "text/x-python",
   "name": "python",
   "nbconvert_exporter": "python",
   "pygments_lexer": "ipython3",
   "version": "3.11.4"
  },
  "orig_nbformat": 4
 },
 "nbformat": 4,
 "nbformat_minor": 2
}
