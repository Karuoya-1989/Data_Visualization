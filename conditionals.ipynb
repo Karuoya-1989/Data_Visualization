{
 "cells": [
  {
   "cell_type": "code",
   "execution_count": 1,
   "metadata": {},
   "outputs": [
    {
     "name": "stdout",
     "output_type": "stream",
     "text": [
      "(4, 0)\n"
     ]
    },
    {
     "data": {
      "text/plain": [
       "tuple"
      ]
     },
     "execution_count": 1,
     "metadata": {},
     "output_type": "execute_result"
    }
   ],
   "source": [
    "b =(4,000)\n",
    "print(b)\n",
    "type(b)"
   ]
  },
  {
   "cell_type": "code",
   "execution_count": 3,
   "metadata": {},
   "outputs": [
    {
     "name": "stdout",
     "output_type": "stream",
     "text": [
      "20\n"
     ]
    }
   ],
   "source": [
    "#Conditional\n",
    "leave_days = 21\n",
    "take_leave = True\n",
    "# Decided to take leave\n",
    "if take_leave:\n",
    "    leave_days -= 1\n",
    "    print(leave_days)"
   ]
  },
  {
   "cell_type": "code",
   "execution_count": 4,
   "metadata": {},
   "outputs": [
    {
     "name": "stdout",
     "output_type": "stream",
     "text": [
      "you can have id\n"
     ]
    }
   ],
   "source": [
    "age = 20\n",
    "if age > 18: # condition\n",
    "    print(\"you can have id\")"
   ]
  },
  {
   "cell_type": "code",
   "execution_count": 5,
   "metadata": {},
   "outputs": [
    {
     "name": "stdout",
     "output_type": "stream",
     "text": [
      "pass\n"
     ]
    }
   ],
   "source": [
    "score  = 45\n",
    "if score > 40:\n",
    "    outcome =\"pass\"\n",
    "    print(outcome)\n",
    "else:\n",
    "    outcome(fail)\n",
    "    print(outcome)"
   ]
  },
  {
   "cell_type": "markdown",
   "metadata": {},
   "source": [
    "Summary \n",
    "\n",
    "|Condition 1| Condition 2| Final Condition|\n",
    "|:---------:|:----------:|:--------------:|\n",
    "|True|True|True|\n",
    "|True|False|False|\n",
    "|False|True|False|\n",
    "|False|False|False|"
   ]
  },
  {
   "cell_type": "code",
   "execution_count": 26,
   "metadata": {},
   "outputs": [
    {
     "name": "stdout",
     "output_type": "stream",
     "text": [
      "Student score: 85, Grade: B\n"
     ]
    }
   ],
   "source": [
    "def calculate_grade(score):\n",
    "    if score >= 90:\n",
    "       return \"A\"\n",
    "    elif score >= 80:\n",
    "        return \"B\"\n",
    "    elif score >= 70:\n",
    "        return \"C\"\n",
    "    elif score >= 60:\n",
    "        return \"D\"\n",
    "    else:\n",
    "        return \"F\"\n",
    "\n",
    "# Example usage:\n",
    "student_score = 85\n",
    "grade = calculate_grade(student_score)\n",
    "print(f\"Student score: {student_score}, Grade: {grade}\")"
   ]
  },
  {
   "cell_type": "markdown",
   "metadata": {},
   "source": [
    " Score Range | Grade |\n",
    "|-------------|-------|\n",
    "| 90 - 100    | A     |\n",
    "| 80 - 89     | B     |\n",
    "| 70 - 79     | C     |\n",
    "| 60 - 69     | D     |\n",
    "| < 60        | F     |\n"
   ]
  },
  {
   "cell_type": "code",
   "execution_count": 7,
   "metadata": {},
   "outputs": [
    {
     "name": "stdout",
     "output_type": "stream",
     "text": [
      "Student score: 40, Grade: Poor\n"
     ]
    }
   ],
   "source": [
    "def calculate_grade(score):\n",
    "    if score > 120:\n",
    "        return \"Outstanding\"\n",
    "    elif score >= 101 and score < 119:\n",
    "        return \"Excellent\"\n",
    "    elif score >=100:\n",
    "        return \"Very Good\"\n",
    "    elif score >= 75 and score < 99:\n",
    "        return \"Good\"\n",
    "    elif score >= 50 and score < 74:\n",
    "       return \"Fair\"\n",
    "    elif score <=49:\n",
    "        return \"Poor\"\n",
    "\n",
    "student_score = 40\n",
    "grade = calculate_grade(student_score)\n",
    "print(f\"Student score: {student_score}, Grade: {grade}\")"
   ]
  },
  {
   "cell_type": "code",
   "execution_count": 8,
   "metadata": {},
   "outputs": [
    {
     "name": "stdout",
     "output_type": "stream",
     "text": [
      "Student score: 40, Grade: Poor\n"
     ]
    }
   ],
   "source": [
    "def calculate_grade(score):\n",
    "    if score >= 101 and score < 119:\n",
    "        return \"Outstanding\"\n",
    "    elif score >= 100:\n",
    "        return \"Excellent\"\n",
    "    elif score >= 75 and score < 100:\n",
    "        return \"Very Good\"\n",
    "    elif score >= 50 and score < 75:\n",
    "        return \"Good\"\n",
    "    elif score < 50:\n",
    "        return \"Poor\"\n",
    "    else:\n",
    "        return \"Invalid score\"\n",
    "\n",
    "student_score = 40\n",
    "grade = calculate_grade(student_score)\n",
    "print(f\"Student score: {student_score}, Grade: {grade}\")"
   ]
  },
  {
   "cell_type": "code",
   "execution_count": 1,
   "metadata": {},
   "outputs": [
    {
     "name": "stdout",
     "output_type": "stream",
     "text": [
      "45\n"
     ]
    }
   ],
   "source": [
    "leave_days = 0\n",
    "leave_days = leave_days + 45\n",
    "print(leave_days)"
   ]
  },
  {
   "cell_type": "code",
   "execution_count": 2,
   "metadata": {},
   "outputs": [
    {
     "name": "stdout",
     "output_type": "stream",
     "text": [
      "15\n"
     ]
    }
   ],
   "source": [
    "Leave_days = 45\n",
    "leave_days = leave_days - 30\n",
    "print(leave_days)"
   ]
  },
  {
   "cell_type": "code",
   "execution_count": 3,
   "metadata": {},
   "outputs": [
    {
     "name": "stdout",
     "output_type": "stream",
     "text": [
      "15\n"
     ]
    }
   ],
   "source": [
    "leave_days =45\n",
    "take_leave =30\n",
    "if take_leave:\n",
    "    leave_days -=30\n",
    "    print(leave_days)"
   ]
  },
  {
   "cell_type": "code",
   "execution_count": 24,
   "metadata": {},
   "outputs": [
    {
     "name": "stdout",
     "output_type": "stream",
     "text": [
      "High\n"
     ]
    }
   ],
   "source": [
    "Caseload = 10065\n",
    "if Caseload <= 900000:\n",
    "     outcome = \"High\"\n",
    "else: outcome = (\"Low\")\n",
    "print(outcome)\n",
    "\n",
    "   "
   ]
  },
  {
   "cell_type": "code",
   "execution_count": 10,
   "metadata": {},
   "outputs": [
    {
     "data": {
      "text/plain": [
       "True"
      ]
     },
     "execution_count": 10,
     "metadata": {},
     "output_type": "execute_result"
    }
   ],
   "source": [
    "Caseload > 1000"
   ]
  },
  {
   "cell_type": "code",
   "execution_count": 36,
   "metadata": {},
   "outputs": [
    {
     "name": "stdout",
     "output_type": "stream",
     "text": [
      "Church_Elder\n"
     ]
    }
   ],
   "source": [
    "age =46\n",
    "status = 'Married'\n",
    "if age >18 and status == 'Married':\n",
    "     print('Church_Elder')\n",
    "else:print('Church_School')"
   ]
  },
  {
   "cell_type": "code",
   "execution_count": 55,
   "metadata": {},
   "outputs": [
    {
     "name": "stdout",
     "output_type": "stream",
     "text": [
      "Church_Elder\n"
     ]
    }
   ],
   "source": [
    "age = 30\n",
    "association = \"PCMF\"\n",
    "status = \"Married\"\n",
    "if (age > 25) or (status == \"Married\"):\n",
    "    print(\"Church_Elder\")"
   ]
  }
 ],
 "metadata": {
  "kernelspec": {
   "display_name": "Python 3 (ipykernel)",
   "language": "python",
   "name": "python3"
  },
  "language_info": {
   "codemirror_mode": {
    "name": "ipython",
    "version": 3
   },
   "file_extension": ".py",
   "mimetype": "text/x-python",
   "name": "python",
   "nbconvert_exporter": "python",
   "pygments_lexer": "ipython3",
   "version": "3.11.4"
  }
 },
 "nbformat": 4,
 "nbformat_minor": 4
}
